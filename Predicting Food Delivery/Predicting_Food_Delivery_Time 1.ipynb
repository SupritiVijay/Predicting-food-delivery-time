{
  "nbformat": 4,
  "nbformat_minor": 0,
  "metadata": {
    "kernelspec": {
      "display_name": "Python 3",
      "language": "python",
      "name": "python3"
    },
    "language_info": {
      "codemirror_mode": {
        "name": "ipython",
        "version": 3
      },
      "file_extension": ".py",
      "mimetype": "text/x-python",
      "name": "python",
      "nbconvert_exporter": "python",
      "pygments_lexer": "ipython3",
      "version": "3.7.6"
    },
    "colab": {
      "name": "Predicting Food Delivery Time.ipynb",
      "provenance": []
    }
  },
  "cells": [
    {
      "cell_type": "code",
      "metadata": {
        "id": "aUYkPCs8EbKw",
        "colab_type": "code",
        "colab": {}
      },
      "source": [
        "import numpy as np\n",
        "import pandas as pd\n",
        "\n",
        "import matplotlib.pyplot as plt\n",
        "import seaborn as sns\n",
        "%matplotlib inline\n",
        "\n",
        "from sklearn.model_selection import train_test_split\n",
        "from sklearn.linear_model import LinearRegression\n",
        "from sklearn.ensemble import RandomForestRegressor\n",
        "from sklearn.metrics import r2_score\n",
        "from sklearn.externals.six import StringIO  \n",
        "from IPython.display import Image  \n",
        "from sklearn import tree\n",
        "from sklearn.model_selection import train_test_split\n",
        "from sklearn.tree import export_graphviz\n",
        "from sklearn.model_selection import RandomizedSearchCV\n",
        "from sklearn.linear_model import LinearRegression\n",
        "from sklearn.preprocessing import StandardScaler\n",
        "from sklearn.neighbors import KNeighborsRegressor\n",
        "from sklearn import tree\n",
        "from sklearn.metrics import mean_squared_error"
      ],
      "execution_count": 3,
      "outputs": []
    },
    {
      "cell_type": "code",
      "metadata": {
        "id": "jUOCbvE6EbK1",
        "colab_type": "code",
        "colab": {}
      },
      "source": [
        "data_train = pd.read_excel('Data_Train.xlsx')\n",
        "data_test =  pd.read_excel('Data_Test.xlsx')"
      ],
      "execution_count": 4,
      "outputs": []
    },
    {
      "cell_type": "code",
      "metadata": {
        "id": "5KPpNaOpEbK6",
        "colab_type": "code",
        "colab": {
          "base_uri": "https://localhost:8080/",
          "height": 262
        },
        "outputId": "8d8b4529-75b4-44a9-ac70-f590e64421c9"
      },
      "source": [
        "data_train.head()"
      ],
      "execution_count": 5,
      "outputs": [
        {
          "output_type": "execute_result",
          "data": {
            "text/html": [
              "<div>\n",
              "<style scoped>\n",
              "    .dataframe tbody tr th:only-of-type {\n",
              "        vertical-align: middle;\n",
              "    }\n",
              "\n",
              "    .dataframe tbody tr th {\n",
              "        vertical-align: top;\n",
              "    }\n",
              "\n",
              "    .dataframe thead th {\n",
              "        text-align: right;\n",
              "    }\n",
              "</style>\n",
              "<table border=\"1\" class=\"dataframe\">\n",
              "  <thead>\n",
              "    <tr style=\"text-align: right;\">\n",
              "      <th></th>\n",
              "      <th>Restaurant</th>\n",
              "      <th>Location</th>\n",
              "      <th>Cuisines</th>\n",
              "      <th>Average_Cost</th>\n",
              "      <th>Minimum_Order</th>\n",
              "      <th>Rating</th>\n",
              "      <th>Votes</th>\n",
              "      <th>Reviews</th>\n",
              "      <th>Delivery_Time</th>\n",
              "    </tr>\n",
              "  </thead>\n",
              "  <tbody>\n",
              "    <tr>\n",
              "      <th>0</th>\n",
              "      <td>ID_6321</td>\n",
              "      <td>FTI College, Law College Road, Pune</td>\n",
              "      <td>Fast Food, Rolls, Burger, Salad, Wraps</td>\n",
              "      <td>₹200</td>\n",
              "      <td>₹50</td>\n",
              "      <td>3.5</td>\n",
              "      <td>12</td>\n",
              "      <td>4</td>\n",
              "      <td>30 minutes</td>\n",
              "    </tr>\n",
              "    <tr>\n",
              "      <th>1</th>\n",
              "      <td>ID_2882</td>\n",
              "      <td>Sector 3, Marathalli</td>\n",
              "      <td>Ice Cream, Desserts</td>\n",
              "      <td>₹100</td>\n",
              "      <td>₹50</td>\n",
              "      <td>3.5</td>\n",
              "      <td>11</td>\n",
              "      <td>4</td>\n",
              "      <td>30 minutes</td>\n",
              "    </tr>\n",
              "    <tr>\n",
              "      <th>2</th>\n",
              "      <td>ID_1595</td>\n",
              "      <td>Mumbai Central</td>\n",
              "      <td>Italian, Street Food, Fast Food</td>\n",
              "      <td>₹150</td>\n",
              "      <td>₹50</td>\n",
              "      <td>3.6</td>\n",
              "      <td>99</td>\n",
              "      <td>30</td>\n",
              "      <td>65 minutes</td>\n",
              "    </tr>\n",
              "    <tr>\n",
              "      <th>3</th>\n",
              "      <td>ID_5929</td>\n",
              "      <td>Sector 1, Noida</td>\n",
              "      <td>Mughlai, North Indian, Chinese</td>\n",
              "      <td>₹250</td>\n",
              "      <td>₹99</td>\n",
              "      <td>3.7</td>\n",
              "      <td>176</td>\n",
              "      <td>95</td>\n",
              "      <td>30 minutes</td>\n",
              "    </tr>\n",
              "    <tr>\n",
              "      <th>4</th>\n",
              "      <td>ID_6123</td>\n",
              "      <td>Rmz Centennial, I Gate, Whitefield</td>\n",
              "      <td>Cafe, Beverages</td>\n",
              "      <td>₹200</td>\n",
              "      <td>₹99</td>\n",
              "      <td>3.2</td>\n",
              "      <td>521</td>\n",
              "      <td>235</td>\n",
              "      <td>65 minutes</td>\n",
              "    </tr>\n",
              "  </tbody>\n",
              "</table>\n",
              "</div>"
            ],
            "text/plain": [
              "  Restaurant                             Location  ... Reviews Delivery_Time\n",
              "0    ID_6321  FTI College, Law College Road, Pune  ...       4    30 minutes\n",
              "1    ID_2882                 Sector 3, Marathalli  ...       4    30 minutes\n",
              "2    ID_1595                       Mumbai Central  ...      30    65 minutes\n",
              "3    ID_5929                      Sector 1, Noida  ...      95    30 minutes\n",
              "4    ID_6123   Rmz Centennial, I Gate, Whitefield  ...     235    65 minutes\n",
              "\n",
              "[5 rows x 9 columns]"
            ]
          },
          "metadata": {
            "tags": []
          },
          "execution_count": 5
        }
      ]
    },
    {
      "cell_type": "code",
      "metadata": {
        "id": "lPr8IQxxEbK_",
        "colab_type": "code",
        "colab": {
          "base_uri": "https://localhost:8080/",
          "height": 70
        },
        "outputId": "a4c63459-0650-448f-cf42-7e15cec4c18a"
      },
      "source": [
        "data_train.columns"
      ],
      "execution_count": 6,
      "outputs": [
        {
          "output_type": "execute_result",
          "data": {
            "text/plain": [
              "Index(['Restaurant', 'Location', 'Cuisines', 'Average_Cost', 'Minimum_Order',\n",
              "       'Rating', 'Votes', 'Reviews', 'Delivery_Time'],\n",
              "      dtype='object')"
            ]
          },
          "metadata": {
            "tags": []
          },
          "execution_count": 6
        }
      ]
    },
    {
      "cell_type": "code",
      "metadata": {
        "id": "udU1iJSiEbLE",
        "colab_type": "code",
        "colab": {
          "base_uri": "https://localhost:8080/",
          "height": 298
        },
        "outputId": "956d0149-83eb-4f39-89e4-50dcde1d1c72"
      },
      "source": [
        "data_train.info()"
      ],
      "execution_count": 7,
      "outputs": [
        {
          "output_type": "stream",
          "text": [
            "<class 'pandas.core.frame.DataFrame'>\n",
            "RangeIndex: 11094 entries, 0 to 11093\n",
            "Data columns (total 9 columns):\n",
            " #   Column         Non-Null Count  Dtype \n",
            "---  ------         --------------  ----- \n",
            " 0   Restaurant     11094 non-null  object\n",
            " 1   Location       11094 non-null  object\n",
            " 2   Cuisines       11094 non-null  object\n",
            " 3   Average_Cost   11094 non-null  object\n",
            " 4   Minimum_Order  11094 non-null  object\n",
            " 5   Rating         11094 non-null  object\n",
            " 6   Votes          11094 non-null  object\n",
            " 7   Reviews        11094 non-null  object\n",
            " 8   Delivery_Time  11094 non-null  object\n",
            "dtypes: object(9)\n",
            "memory usage: 780.2+ KB\n"
          ],
          "name": "stdout"
        }
      ]
    },
    {
      "cell_type": "code",
      "metadata": {
        "id": "ed2gFpPiEbLJ",
        "colab_type": "code",
        "colab": {
          "base_uri": "https://localhost:8080/",
          "height": 34
        },
        "outputId": "b8c0038e-3dfd-44a6-cad1-90d9016c30aa"
      },
      "source": [
        "print(data_train.shape,data_test.shape)"
      ],
      "execution_count": 8,
      "outputs": [
        {
          "output_type": "stream",
          "text": [
            "(11094, 9) (2774, 8)\n"
          ],
          "name": "stdout"
        }
      ]
    },
    {
      "cell_type": "code",
      "metadata": {
        "id": "MX-SD1Z1EbLN",
        "colab_type": "code",
        "colab": {
          "base_uri": "https://localhost:8080/",
          "height": 193
        },
        "outputId": "44815af3-0c28-4071-dac5-e4e0cdb1ca61"
      },
      "source": [
        "data_train.isnull().sum()"
      ],
      "execution_count": 9,
      "outputs": [
        {
          "output_type": "execute_result",
          "data": {
            "text/plain": [
              "Restaurant       0\n",
              "Location         0\n",
              "Cuisines         0\n",
              "Average_Cost     0\n",
              "Minimum_Order    0\n",
              "Rating           0\n",
              "Votes            0\n",
              "Reviews          0\n",
              "Delivery_Time    0\n",
              "dtype: int64"
            ]
          },
          "metadata": {
            "tags": []
          },
          "execution_count": 9
        }
      ]
    },
    {
      "cell_type": "code",
      "metadata": {
        "id": "hVBRLqJnEbLT",
        "colab_type": "code",
        "colab": {
          "base_uri": "https://localhost:8080/",
          "height": 175
        },
        "outputId": "adf8614d-3e05-44ea-fed0-ff8154067606"
      },
      "source": [
        "data_test.isnull().sum()"
      ],
      "execution_count": 10,
      "outputs": [
        {
          "output_type": "execute_result",
          "data": {
            "text/plain": [
              "Restaurant       0\n",
              "Location         0\n",
              "Cuisines         0\n",
              "Average_Cost     0\n",
              "Minimum_Order    0\n",
              "Rating           0\n",
              "Votes            0\n",
              "Reviews          0\n",
              "dtype: int64"
            ]
          },
          "metadata": {
            "tags": []
          },
          "execution_count": 10
        }
      ]
    },
    {
      "cell_type": "code",
      "metadata": {
        "id": "Bfya4DKiEbLY",
        "colab_type": "code",
        "colab": {
          "base_uri": "https://localhost:8080/",
          "height": 281
        },
        "outputId": "0f794b4b-7099-43b8-ef5d-af7120fa2e69"
      },
      "source": [
        "combined_set.info()"
      ],
      "execution_count": 13,
      "outputs": [
        {
          "output_type": "stream",
          "text": [
            "<class 'pandas.core.frame.DataFrame'>\n",
            "Int64Index: 13868 entries, 0 to 2773\n",
            "Data columns (total 8 columns):\n",
            " #   Column         Non-Null Count  Dtype \n",
            "---  ------         --------------  ----- \n",
            " 0   Restaurant     13868 non-null  object\n",
            " 1   Location       13868 non-null  object\n",
            " 2   Cuisines       13868 non-null  object\n",
            " 3   Average_Cost   13868 non-null  object\n",
            " 4   Minimum_Order  13868 non-null  object\n",
            " 5   Rating         13868 non-null  object\n",
            " 6   Votes          13868 non-null  object\n",
            " 7   Reviews        13868 non-null  object\n",
            "dtypes: object(8)\n",
            "memory usage: 975.1+ KB\n"
          ],
          "name": "stdout"
        }
      ]
    },
    {
      "cell_type": "code",
      "metadata": {
        "id": "cMEuSbA-EbLf",
        "colab_type": "code",
        "colab": {
          "base_uri": "https://localhost:8080/",
          "height": 34
        },
        "outputId": "ea332941-fa4f-43fe-81a1-db4d75f45aee"
      },
      "source": [
        "train_nomissing = data_train.drop('Delivery_Time',axis=1)\n",
        "test_nomissing = data_test\n",
        "combined_set = pd.concat([train_nomissing, test_nomissing], axis = 0)\n",
        "combined_set.shape"
      ],
      "execution_count": 12,
      "outputs": [
        {
          "output_type": "execute_result",
          "data": {
            "text/plain": [
              "(13868, 8)"
            ]
          },
          "metadata": {
            "tags": []
          },
          "execution_count": 12
        }
      ]
    },
    {
      "cell_type": "code",
      "metadata": {
        "id": "SvWzhhaQEbLj",
        "colab_type": "code",
        "colab": {
          "base_uri": "https://localhost:8080/",
          "height": 212
        },
        "outputId": "5aa30559-a8a0-4910-f3b4-d089902a74b9"
      },
      "source": [
        "combined_set.head()"
      ],
      "execution_count": 14,
      "outputs": [
        {
          "output_type": "execute_result",
          "data": {
            "text/html": [
              "<div>\n",
              "<style scoped>\n",
              "    .dataframe tbody tr th:only-of-type {\n",
              "        vertical-align: middle;\n",
              "    }\n",
              "\n",
              "    .dataframe tbody tr th {\n",
              "        vertical-align: top;\n",
              "    }\n",
              "\n",
              "    .dataframe thead th {\n",
              "        text-align: right;\n",
              "    }\n",
              "</style>\n",
              "<table border=\"1\" class=\"dataframe\">\n",
              "  <thead>\n",
              "    <tr style=\"text-align: right;\">\n",
              "      <th></th>\n",
              "      <th>Restaurant</th>\n",
              "      <th>Location</th>\n",
              "      <th>Cuisines</th>\n",
              "      <th>Average_Cost</th>\n",
              "      <th>Minimum_Order</th>\n",
              "      <th>Rating</th>\n",
              "      <th>Votes</th>\n",
              "      <th>Reviews</th>\n",
              "    </tr>\n",
              "  </thead>\n",
              "  <tbody>\n",
              "    <tr>\n",
              "      <th>0</th>\n",
              "      <td>ID_6321</td>\n",
              "      <td>FTI College, Law College Road, Pune</td>\n",
              "      <td>Fast Food, Rolls, Burger, Salad, Wraps</td>\n",
              "      <td>₹200</td>\n",
              "      <td>₹50</td>\n",
              "      <td>3.5</td>\n",
              "      <td>12</td>\n",
              "      <td>4</td>\n",
              "    </tr>\n",
              "    <tr>\n",
              "      <th>1</th>\n",
              "      <td>ID_2882</td>\n",
              "      <td>Sector 3, Marathalli</td>\n",
              "      <td>Ice Cream, Desserts</td>\n",
              "      <td>₹100</td>\n",
              "      <td>₹50</td>\n",
              "      <td>3.5</td>\n",
              "      <td>11</td>\n",
              "      <td>4</td>\n",
              "    </tr>\n",
              "    <tr>\n",
              "      <th>2</th>\n",
              "      <td>ID_1595</td>\n",
              "      <td>Mumbai Central</td>\n",
              "      <td>Italian, Street Food, Fast Food</td>\n",
              "      <td>₹150</td>\n",
              "      <td>₹50</td>\n",
              "      <td>3.6</td>\n",
              "      <td>99</td>\n",
              "      <td>30</td>\n",
              "    </tr>\n",
              "    <tr>\n",
              "      <th>3</th>\n",
              "      <td>ID_5929</td>\n",
              "      <td>Sector 1, Noida</td>\n",
              "      <td>Mughlai, North Indian, Chinese</td>\n",
              "      <td>₹250</td>\n",
              "      <td>₹99</td>\n",
              "      <td>3.7</td>\n",
              "      <td>176</td>\n",
              "      <td>95</td>\n",
              "    </tr>\n",
              "    <tr>\n",
              "      <th>4</th>\n",
              "      <td>ID_6123</td>\n",
              "      <td>Rmz Centennial, I Gate, Whitefield</td>\n",
              "      <td>Cafe, Beverages</td>\n",
              "      <td>₹200</td>\n",
              "      <td>₹99</td>\n",
              "      <td>3.2</td>\n",
              "      <td>521</td>\n",
              "      <td>235</td>\n",
              "    </tr>\n",
              "  </tbody>\n",
              "</table>\n",
              "</div>"
            ],
            "text/plain": [
              "  Restaurant                             Location  ... Votes Reviews\n",
              "0    ID_6321  FTI College, Law College Road, Pune  ...    12       4\n",
              "1    ID_2882                 Sector 3, Marathalli  ...    11       4\n",
              "2    ID_1595                       Mumbai Central  ...    99      30\n",
              "3    ID_5929                      Sector 1, Noida  ...   176      95\n",
              "4    ID_6123   Rmz Centennial, I Gate, Whitefield  ...   521     235\n",
              "\n",
              "[5 rows x 8 columns]"
            ]
          },
          "metadata": {
            "tags": []
          },
          "execution_count": 14
        }
      ]
    },
    {
      "cell_type": "code",
      "metadata": {
        "id": "8vXNTh5EEbLn",
        "colab_type": "code",
        "colab": {
          "base_uri": "https://localhost:8080/",
          "height": 175
        },
        "outputId": "5ff06d93-023d-440c-bf6b-b4fb1226d7f2"
      },
      "source": [
        "combined_set.nunique()"
      ],
      "execution_count": 15,
      "outputs": [
        {
          "output_type": "execute_result",
          "data": {
            "text/plain": [
              "Restaurant       8661\n",
              "Location           35\n",
              "Cuisines         2392\n",
              "Average_Cost       26\n",
              "Minimum_Order      20\n",
              "Rating             33\n",
              "Votes            1181\n",
              "Reviews           811\n",
              "dtype: int64"
            ]
          },
          "metadata": {
            "tags": []
          },
          "execution_count": 15
        }
      ]
    },
    {
      "cell_type": "code",
      "metadata": {
        "id": "lzCksI1FEbLs",
        "colab_type": "code",
        "colab": {
          "base_uri": "https://localhost:8080/",
          "height": 175
        },
        "outputId": "1167746d-a2b0-421f-e8d0-08b1c2d715db"
      },
      "source": [
        "combined_set.isnull().sum()"
      ],
      "execution_count": 16,
      "outputs": [
        {
          "output_type": "execute_result",
          "data": {
            "text/plain": [
              "Restaurant       0\n",
              "Location         0\n",
              "Cuisines         0\n",
              "Average_Cost     0\n",
              "Minimum_Order    0\n",
              "Rating           0\n",
              "Votes            0\n",
              "Reviews          0\n",
              "dtype: int64"
            ]
          },
          "metadata": {
            "tags": []
          },
          "execution_count": 16
        }
      ]
    },
    {
      "cell_type": "code",
      "metadata": {
        "id": "RVRJsiWiEbLw",
        "colab_type": "code",
        "colab": {
          "base_uri": "https://localhost:8080/",
          "height": 1000
        },
        "outputId": "828daa11-03b3-44ec-ae57-a0567a827cd5"
      },
      "source": [
        "from collections import Counter\n",
        "\n",
        "combined_set['Cuisines'] = combined_set['Cuisines'].str.lower()\n",
        "combined_set['Cuisines'] = combined_set['Cuisines'].str.replace(' ','')\n",
        "Cuisines_set = combined_set['Cuisines'].str.split(',')\n",
        "\n",
        "Cuisines_counter = Counter(([a for b in Cuisines_set.tolist() for a in b]))\n",
        "Cuisines_counter"
      ],
      "execution_count": 17,
      "outputs": [
        {
          "output_type": "execute_result",
          "data": {
            "text/plain": [
              "Counter({'afghan': 24,\n",
              "         'african': 2,\n",
              "         'american': 163,\n",
              "         'andhra': 111,\n",
              "         'arabian': 82,\n",
              "         'asian': 259,\n",
              "         'assamese': 4,\n",
              "         'awadhi': 15,\n",
              "         'bakery': 864,\n",
              "         'bangladeshi': 5,\n",
              "         'barfood': 25,\n",
              "         'bbq': 61,\n",
              "         'belgian': 5,\n",
              "         'bengali': 132,\n",
              "         'beverages': 1789,\n",
              "         'bihari': 14,\n",
              "         'biryani': 1161,\n",
              "         'bohri': 1,\n",
              "         'brazilian': 6,\n",
              "         'bubbletea': 6,\n",
              "         'burger': 414,\n",
              "         'burmese': 13,\n",
              "         'cafe': 592,\n",
              "         'cantonese': 2,\n",
              "         'charcoalchicken': 3,\n",
              "         'chettinad': 14,\n",
              "         'chinese': 4339,\n",
              "         'coffee': 53,\n",
              "         'continental': 694,\n",
              "         'desserts': 1548,\n",
              "         'european': 89,\n",
              "         'fastfood': 3862,\n",
              "         'fingerfood': 67,\n",
              "         'french': 8,\n",
              "         'frozenyogurt': 5,\n",
              "         'german': 9,\n",
              "         'goan': 11,\n",
              "         'greek': 1,\n",
              "         'gujarati': 12,\n",
              "         'healthyfood': 352,\n",
              "         'hotdogs': 4,\n",
              "         'hyderabadi': 85,\n",
              "         'icecream': 480,\n",
              "         'indian': 4,\n",
              "         'indonesian': 3,\n",
              "         'iranian': 10,\n",
              "         'israeli': 2,\n",
              "         'italian': 751,\n",
              "         'japanese': 72,\n",
              "         'juices': 198,\n",
              "         'kashmiri': 11,\n",
              "         'kebab': 214,\n",
              "         'kerala': 73,\n",
              "         'konkan': 6,\n",
              "         'korean': 20,\n",
              "         'lebanese': 120,\n",
              "         'lucknowi': 15,\n",
              "         'maharashtrian': 135,\n",
              "         'malaysian': 16,\n",
              "         'malwani': 20,\n",
              "         'mangalorean': 27,\n",
              "         'mediterranean': 32,\n",
              "         'mexican': 143,\n",
              "         'middleeastern': 6,\n",
              "         'mishti': 82,\n",
              "         'mithai': 386,\n",
              "         'modernindian': 25,\n",
              "         'momos': 397,\n",
              "         'mughlai': 1098,\n",
              "         'naga': 8,\n",
              "         'nepalese': 3,\n",
              "         'northeastern': 29,\n",
              "         'northindian': 5999,\n",
              "         'odia': 21,\n",
              "         'paan': 34,\n",
              "         'parsi': 15,\n",
              "         'pizza': 611,\n",
              "         'poké': 10,\n",
              "         'portuguese': 3,\n",
              "         'rajasthani': 35,\n",
              "         'rawmeats': 16,\n",
              "         'roastchicken': 5,\n",
              "         'rolls': 620,\n",
              "         'salad': 284,\n",
              "         'sandwich': 339,\n",
              "         'seafood': 246,\n",
              "         'southamerican': 3,\n",
              "         'southindian': 1507,\n",
              "         'spanish': 4,\n",
              "         'srilankan': 1,\n",
              "         'steak': 22,\n",
              "         'streetfood': 935,\n",
              "         'sushi': 50,\n",
              "         'tamil': 3,\n",
              "         'tea': 87,\n",
              "         'tex-mex': 4,\n",
              "         'thai': 205,\n",
              "         'tibetan': 47,\n",
              "         'turkish': 9,\n",
              "         'vietnamese': 18,\n",
              "         'wraps': 97})"
            ]
          },
          "metadata": {
            "tags": []
          },
          "execution_count": 17
        }
      ]
    },
    {
      "cell_type": "code",
      "metadata": {
        "id": "1CkhAtikEbL0",
        "colab_type": "code",
        "colab": {}
      },
      "source": [
        "for cuisine in Cuisines_counter.keys():\n",
        "    combined_set[cuisine] = 0\n",
        "    combined_set.loc[combined_set['Cuisines'].str.contains(cuisine), cuisine] = 1\n"
      ],
      "execution_count": 18,
      "outputs": []
    },
    {
      "cell_type": "code",
      "metadata": {
        "id": "i3_zm8M8EbL4",
        "colab_type": "code",
        "colab": {}
      },
      "source": [
        "combined_set = combined_set.drop(\"Cuisines\", axis=1)"
      ],
      "execution_count": 19,
      "outputs": []
    },
    {
      "cell_type": "code",
      "metadata": {
        "id": "AcNwn9nREbL8",
        "colab_type": "code",
        "colab": {
          "base_uri": "https://localhost:8080/",
          "height": 446
        },
        "outputId": "a131ecdf-8ca0-48e6-be09-9b46afb747b9"
      },
      "source": [
        "combined_set.head()"
      ],
      "execution_count": 20,
      "outputs": [
        {
          "output_type": "execute_result",
          "data": {
            "text/html": [
              "<div>\n",
              "<style scoped>\n",
              "    .dataframe tbody tr th:only-of-type {\n",
              "        vertical-align: middle;\n",
              "    }\n",
              "\n",
              "    .dataframe tbody tr th {\n",
              "        vertical-align: top;\n",
              "    }\n",
              "\n",
              "    .dataframe thead th {\n",
              "        text-align: right;\n",
              "    }\n",
              "</style>\n",
              "<table border=\"1\" class=\"dataframe\">\n",
              "  <thead>\n",
              "    <tr style=\"text-align: right;\">\n",
              "      <th></th>\n",
              "      <th>Restaurant</th>\n",
              "      <th>Location</th>\n",
              "      <th>Average_Cost</th>\n",
              "      <th>Minimum_Order</th>\n",
              "      <th>Rating</th>\n",
              "      <th>Votes</th>\n",
              "      <th>Reviews</th>\n",
              "      <th>fastfood</th>\n",
              "      <th>rolls</th>\n",
              "      <th>burger</th>\n",
              "      <th>salad</th>\n",
              "      <th>wraps</th>\n",
              "      <th>icecream</th>\n",
              "      <th>desserts</th>\n",
              "      <th>italian</th>\n",
              "      <th>streetfood</th>\n",
              "      <th>mughlai</th>\n",
              "      <th>northindian</th>\n",
              "      <th>chinese</th>\n",
              "      <th>cafe</th>\n",
              "      <th>beverages</th>\n",
              "      <th>southindian</th>\n",
              "      <th>thai</th>\n",
              "      <th>asian</th>\n",
              "      <th>mithai</th>\n",
              "      <th>momos</th>\n",
              "      <th>indonesian</th>\n",
              "      <th>biryani</th>\n",
              "      <th>kerala</th>\n",
              "      <th>bihari</th>\n",
              "      <th>mexican</th>\n",
              "      <th>japanese</th>\n",
              "      <th>bakery</th>\n",
              "      <th>burmese</th>\n",
              "      <th>bubbletea</th>\n",
              "      <th>tea</th>\n",
              "      <th>pizza</th>\n",
              "      <th>lucknowi</th>\n",
              "      <th>mangalorean</th>\n",
              "      <th>european</th>\n",
              "      <th>...</th>\n",
              "      <th>paan</th>\n",
              "      <th>steak</th>\n",
              "      <th>mediterranean</th>\n",
              "      <th>bohri</th>\n",
              "      <th>afghan</th>\n",
              "      <th>goan</th>\n",
              "      <th>gujarati</th>\n",
              "      <th>bbq</th>\n",
              "      <th>rawmeats</th>\n",
              "      <th>malaysian</th>\n",
              "      <th>vietnamese</th>\n",
              "      <th>srilankan</th>\n",
              "      <th>rajasthani</th>\n",
              "      <th>poké</th>\n",
              "      <th>roastchicken</th>\n",
              "      <th>coffee</th>\n",
              "      <th>brazilian</th>\n",
              "      <th>belgian</th>\n",
              "      <th>naga</th>\n",
              "      <th>korean</th>\n",
              "      <th>modernindian</th>\n",
              "      <th>awadhi</th>\n",
              "      <th>kashmiri</th>\n",
              "      <th>french</th>\n",
              "      <th>portuguese</th>\n",
              "      <th>charcoalchicken</th>\n",
              "      <th>frozenyogurt</th>\n",
              "      <th>bangladeshi</th>\n",
              "      <th>malwani</th>\n",
              "      <th>iranian</th>\n",
              "      <th>nepalese</th>\n",
              "      <th>indian</th>\n",
              "      <th>tex-mex</th>\n",
              "      <th>hotdogs</th>\n",
              "      <th>southamerican</th>\n",
              "      <th>middleeastern</th>\n",
              "      <th>african</th>\n",
              "      <th>turkish</th>\n",
              "      <th>israeli</th>\n",
              "      <th>greek</th>\n",
              "    </tr>\n",
              "  </thead>\n",
              "  <tbody>\n",
              "    <tr>\n",
              "      <th>0</th>\n",
              "      <td>ID_6321</td>\n",
              "      <td>FTI College, Law College Road, Pune</td>\n",
              "      <td>₹200</td>\n",
              "      <td>₹50</td>\n",
              "      <td>3.5</td>\n",
              "      <td>12</td>\n",
              "      <td>4</td>\n",
              "      <td>1</td>\n",
              "      <td>1</td>\n",
              "      <td>1</td>\n",
              "      <td>1</td>\n",
              "      <td>1</td>\n",
              "      <td>0</td>\n",
              "      <td>0</td>\n",
              "      <td>0</td>\n",
              "      <td>0</td>\n",
              "      <td>0</td>\n",
              "      <td>0</td>\n",
              "      <td>0</td>\n",
              "      <td>0</td>\n",
              "      <td>0</td>\n",
              "      <td>0</td>\n",
              "      <td>0</td>\n",
              "      <td>0</td>\n",
              "      <td>0</td>\n",
              "      <td>0</td>\n",
              "      <td>0</td>\n",
              "      <td>0</td>\n",
              "      <td>0</td>\n",
              "      <td>0</td>\n",
              "      <td>0</td>\n",
              "      <td>0</td>\n",
              "      <td>0</td>\n",
              "      <td>0</td>\n",
              "      <td>0</td>\n",
              "      <td>0</td>\n",
              "      <td>0</td>\n",
              "      <td>0</td>\n",
              "      <td>0</td>\n",
              "      <td>0</td>\n",
              "      <td>...</td>\n",
              "      <td>0</td>\n",
              "      <td>0</td>\n",
              "      <td>0</td>\n",
              "      <td>0</td>\n",
              "      <td>0</td>\n",
              "      <td>0</td>\n",
              "      <td>0</td>\n",
              "      <td>0</td>\n",
              "      <td>0</td>\n",
              "      <td>0</td>\n",
              "      <td>0</td>\n",
              "      <td>0</td>\n",
              "      <td>0</td>\n",
              "      <td>0</td>\n",
              "      <td>0</td>\n",
              "      <td>0</td>\n",
              "      <td>0</td>\n",
              "      <td>0</td>\n",
              "      <td>0</td>\n",
              "      <td>0</td>\n",
              "      <td>0</td>\n",
              "      <td>0</td>\n",
              "      <td>0</td>\n",
              "      <td>0</td>\n",
              "      <td>0</td>\n",
              "      <td>0</td>\n",
              "      <td>0</td>\n",
              "      <td>0</td>\n",
              "      <td>0</td>\n",
              "      <td>0</td>\n",
              "      <td>0</td>\n",
              "      <td>0</td>\n",
              "      <td>0</td>\n",
              "      <td>0</td>\n",
              "      <td>0</td>\n",
              "      <td>0</td>\n",
              "      <td>0</td>\n",
              "      <td>0</td>\n",
              "      <td>0</td>\n",
              "      <td>0</td>\n",
              "    </tr>\n",
              "    <tr>\n",
              "      <th>1</th>\n",
              "      <td>ID_2882</td>\n",
              "      <td>Sector 3, Marathalli</td>\n",
              "      <td>₹100</td>\n",
              "      <td>₹50</td>\n",
              "      <td>3.5</td>\n",
              "      <td>11</td>\n",
              "      <td>4</td>\n",
              "      <td>0</td>\n",
              "      <td>0</td>\n",
              "      <td>0</td>\n",
              "      <td>0</td>\n",
              "      <td>0</td>\n",
              "      <td>1</td>\n",
              "      <td>1</td>\n",
              "      <td>0</td>\n",
              "      <td>0</td>\n",
              "      <td>0</td>\n",
              "      <td>0</td>\n",
              "      <td>0</td>\n",
              "      <td>0</td>\n",
              "      <td>0</td>\n",
              "      <td>0</td>\n",
              "      <td>0</td>\n",
              "      <td>0</td>\n",
              "      <td>0</td>\n",
              "      <td>0</td>\n",
              "      <td>0</td>\n",
              "      <td>0</td>\n",
              "      <td>0</td>\n",
              "      <td>0</td>\n",
              "      <td>0</td>\n",
              "      <td>0</td>\n",
              "      <td>0</td>\n",
              "      <td>0</td>\n",
              "      <td>0</td>\n",
              "      <td>0</td>\n",
              "      <td>0</td>\n",
              "      <td>0</td>\n",
              "      <td>0</td>\n",
              "      <td>0</td>\n",
              "      <td>...</td>\n",
              "      <td>0</td>\n",
              "      <td>0</td>\n",
              "      <td>0</td>\n",
              "      <td>0</td>\n",
              "      <td>0</td>\n",
              "      <td>0</td>\n",
              "      <td>0</td>\n",
              "      <td>0</td>\n",
              "      <td>0</td>\n",
              "      <td>0</td>\n",
              "      <td>0</td>\n",
              "      <td>0</td>\n",
              "      <td>0</td>\n",
              "      <td>0</td>\n",
              "      <td>0</td>\n",
              "      <td>0</td>\n",
              "      <td>0</td>\n",
              "      <td>0</td>\n",
              "      <td>0</td>\n",
              "      <td>0</td>\n",
              "      <td>0</td>\n",
              "      <td>0</td>\n",
              "      <td>0</td>\n",
              "      <td>0</td>\n",
              "      <td>0</td>\n",
              "      <td>0</td>\n",
              "      <td>0</td>\n",
              "      <td>0</td>\n",
              "      <td>0</td>\n",
              "      <td>0</td>\n",
              "      <td>0</td>\n",
              "      <td>0</td>\n",
              "      <td>0</td>\n",
              "      <td>0</td>\n",
              "      <td>0</td>\n",
              "      <td>0</td>\n",
              "      <td>0</td>\n",
              "      <td>0</td>\n",
              "      <td>0</td>\n",
              "      <td>0</td>\n",
              "    </tr>\n",
              "    <tr>\n",
              "      <th>2</th>\n",
              "      <td>ID_1595</td>\n",
              "      <td>Mumbai Central</td>\n",
              "      <td>₹150</td>\n",
              "      <td>₹50</td>\n",
              "      <td>3.6</td>\n",
              "      <td>99</td>\n",
              "      <td>30</td>\n",
              "      <td>1</td>\n",
              "      <td>0</td>\n",
              "      <td>0</td>\n",
              "      <td>0</td>\n",
              "      <td>0</td>\n",
              "      <td>0</td>\n",
              "      <td>0</td>\n",
              "      <td>1</td>\n",
              "      <td>1</td>\n",
              "      <td>0</td>\n",
              "      <td>0</td>\n",
              "      <td>0</td>\n",
              "      <td>0</td>\n",
              "      <td>0</td>\n",
              "      <td>0</td>\n",
              "      <td>0</td>\n",
              "      <td>0</td>\n",
              "      <td>0</td>\n",
              "      <td>0</td>\n",
              "      <td>0</td>\n",
              "      <td>0</td>\n",
              "      <td>0</td>\n",
              "      <td>0</td>\n",
              "      <td>0</td>\n",
              "      <td>0</td>\n",
              "      <td>0</td>\n",
              "      <td>0</td>\n",
              "      <td>0</td>\n",
              "      <td>0</td>\n",
              "      <td>0</td>\n",
              "      <td>0</td>\n",
              "      <td>0</td>\n",
              "      <td>0</td>\n",
              "      <td>...</td>\n",
              "      <td>0</td>\n",
              "      <td>0</td>\n",
              "      <td>0</td>\n",
              "      <td>0</td>\n",
              "      <td>0</td>\n",
              "      <td>0</td>\n",
              "      <td>0</td>\n",
              "      <td>0</td>\n",
              "      <td>0</td>\n",
              "      <td>0</td>\n",
              "      <td>0</td>\n",
              "      <td>0</td>\n",
              "      <td>0</td>\n",
              "      <td>0</td>\n",
              "      <td>0</td>\n",
              "      <td>0</td>\n",
              "      <td>0</td>\n",
              "      <td>0</td>\n",
              "      <td>0</td>\n",
              "      <td>0</td>\n",
              "      <td>0</td>\n",
              "      <td>0</td>\n",
              "      <td>0</td>\n",
              "      <td>0</td>\n",
              "      <td>0</td>\n",
              "      <td>0</td>\n",
              "      <td>0</td>\n",
              "      <td>0</td>\n",
              "      <td>0</td>\n",
              "      <td>0</td>\n",
              "      <td>0</td>\n",
              "      <td>0</td>\n",
              "      <td>0</td>\n",
              "      <td>0</td>\n",
              "      <td>0</td>\n",
              "      <td>0</td>\n",
              "      <td>0</td>\n",
              "      <td>0</td>\n",
              "      <td>0</td>\n",
              "      <td>0</td>\n",
              "    </tr>\n",
              "    <tr>\n",
              "      <th>3</th>\n",
              "      <td>ID_5929</td>\n",
              "      <td>Sector 1, Noida</td>\n",
              "      <td>₹250</td>\n",
              "      <td>₹99</td>\n",
              "      <td>3.7</td>\n",
              "      <td>176</td>\n",
              "      <td>95</td>\n",
              "      <td>0</td>\n",
              "      <td>0</td>\n",
              "      <td>0</td>\n",
              "      <td>0</td>\n",
              "      <td>0</td>\n",
              "      <td>0</td>\n",
              "      <td>0</td>\n",
              "      <td>0</td>\n",
              "      <td>0</td>\n",
              "      <td>1</td>\n",
              "      <td>1</td>\n",
              "      <td>1</td>\n",
              "      <td>0</td>\n",
              "      <td>0</td>\n",
              "      <td>0</td>\n",
              "      <td>0</td>\n",
              "      <td>0</td>\n",
              "      <td>0</td>\n",
              "      <td>0</td>\n",
              "      <td>0</td>\n",
              "      <td>0</td>\n",
              "      <td>0</td>\n",
              "      <td>0</td>\n",
              "      <td>0</td>\n",
              "      <td>0</td>\n",
              "      <td>0</td>\n",
              "      <td>0</td>\n",
              "      <td>0</td>\n",
              "      <td>0</td>\n",
              "      <td>0</td>\n",
              "      <td>0</td>\n",
              "      <td>0</td>\n",
              "      <td>0</td>\n",
              "      <td>...</td>\n",
              "      <td>0</td>\n",
              "      <td>0</td>\n",
              "      <td>0</td>\n",
              "      <td>0</td>\n",
              "      <td>0</td>\n",
              "      <td>0</td>\n",
              "      <td>0</td>\n",
              "      <td>0</td>\n",
              "      <td>0</td>\n",
              "      <td>0</td>\n",
              "      <td>0</td>\n",
              "      <td>0</td>\n",
              "      <td>0</td>\n",
              "      <td>0</td>\n",
              "      <td>0</td>\n",
              "      <td>0</td>\n",
              "      <td>0</td>\n",
              "      <td>0</td>\n",
              "      <td>0</td>\n",
              "      <td>0</td>\n",
              "      <td>0</td>\n",
              "      <td>0</td>\n",
              "      <td>0</td>\n",
              "      <td>0</td>\n",
              "      <td>0</td>\n",
              "      <td>0</td>\n",
              "      <td>0</td>\n",
              "      <td>0</td>\n",
              "      <td>0</td>\n",
              "      <td>0</td>\n",
              "      <td>0</td>\n",
              "      <td>1</td>\n",
              "      <td>0</td>\n",
              "      <td>0</td>\n",
              "      <td>0</td>\n",
              "      <td>0</td>\n",
              "      <td>0</td>\n",
              "      <td>0</td>\n",
              "      <td>0</td>\n",
              "      <td>0</td>\n",
              "    </tr>\n",
              "    <tr>\n",
              "      <th>4</th>\n",
              "      <td>ID_6123</td>\n",
              "      <td>Rmz Centennial, I Gate, Whitefield</td>\n",
              "      <td>₹200</td>\n",
              "      <td>₹99</td>\n",
              "      <td>3.2</td>\n",
              "      <td>521</td>\n",
              "      <td>235</td>\n",
              "      <td>0</td>\n",
              "      <td>0</td>\n",
              "      <td>0</td>\n",
              "      <td>0</td>\n",
              "      <td>0</td>\n",
              "      <td>0</td>\n",
              "      <td>0</td>\n",
              "      <td>0</td>\n",
              "      <td>0</td>\n",
              "      <td>0</td>\n",
              "      <td>0</td>\n",
              "      <td>0</td>\n",
              "      <td>1</td>\n",
              "      <td>1</td>\n",
              "      <td>0</td>\n",
              "      <td>0</td>\n",
              "      <td>0</td>\n",
              "      <td>0</td>\n",
              "      <td>0</td>\n",
              "      <td>0</td>\n",
              "      <td>0</td>\n",
              "      <td>0</td>\n",
              "      <td>0</td>\n",
              "      <td>0</td>\n",
              "      <td>0</td>\n",
              "      <td>0</td>\n",
              "      <td>0</td>\n",
              "      <td>0</td>\n",
              "      <td>0</td>\n",
              "      <td>0</td>\n",
              "      <td>0</td>\n",
              "      <td>0</td>\n",
              "      <td>0</td>\n",
              "      <td>...</td>\n",
              "      <td>0</td>\n",
              "      <td>0</td>\n",
              "      <td>0</td>\n",
              "      <td>0</td>\n",
              "      <td>0</td>\n",
              "      <td>0</td>\n",
              "      <td>0</td>\n",
              "      <td>0</td>\n",
              "      <td>0</td>\n",
              "      <td>0</td>\n",
              "      <td>0</td>\n",
              "      <td>0</td>\n",
              "      <td>0</td>\n",
              "      <td>0</td>\n",
              "      <td>0</td>\n",
              "      <td>0</td>\n",
              "      <td>0</td>\n",
              "      <td>0</td>\n",
              "      <td>0</td>\n",
              "      <td>0</td>\n",
              "      <td>0</td>\n",
              "      <td>0</td>\n",
              "      <td>0</td>\n",
              "      <td>0</td>\n",
              "      <td>0</td>\n",
              "      <td>0</td>\n",
              "      <td>0</td>\n",
              "      <td>0</td>\n",
              "      <td>0</td>\n",
              "      <td>0</td>\n",
              "      <td>0</td>\n",
              "      <td>0</td>\n",
              "      <td>0</td>\n",
              "      <td>0</td>\n",
              "      <td>0</td>\n",
              "      <td>0</td>\n",
              "      <td>0</td>\n",
              "      <td>0</td>\n",
              "      <td>0</td>\n",
              "      <td>0</td>\n",
              "    </tr>\n",
              "  </tbody>\n",
              "</table>\n",
              "<p>5 rows × 108 columns</p>\n",
              "</div>"
            ],
            "text/plain": [
              "  Restaurant                             Location  ... israeli greek\n",
              "0    ID_6321  FTI College, Law College Road, Pune  ...       0     0\n",
              "1    ID_2882                 Sector 3, Marathalli  ...       0     0\n",
              "2    ID_1595                       Mumbai Central  ...       0     0\n",
              "3    ID_5929                      Sector 1, Noida  ...       0     0\n",
              "4    ID_6123   Rmz Centennial, I Gate, Whitefield  ...       0     0\n",
              "\n",
              "[5 rows x 108 columns]"
            ]
          },
          "metadata": {
            "tags": []
          },
          "execution_count": 20
        }
      ]
    },
    {
      "cell_type": "code",
      "metadata": {
        "id": "Udj_YpgLEbMA",
        "colab_type": "code",
        "colab": {
          "base_uri": "https://localhost:8080/",
          "height": 970
        },
        "outputId": "dc459d45-0786-4057-d9ff-bc7b2145e443"
      },
      "source": [
        "combined_set['City']=combined_set.Location.str.rpartition(',')[2]\n",
        "\n",
        "combined_set.City[combined_set.City.str.contains('Delhi University-GTB Nagar')]='Delhi'\n",
        "combined_set.City[combined_set.City.str.contains('Mumbai CST Area')]='Mumbai'\n",
        "combined_set.City[combined_set.City.str.contains('Mumbai Central')]='Mumbai'\n",
        "combined_set.City[combined_set.City.str.contains('India Gate')]='Delhi'\n",
        "combined_set.City[combined_set.City.str.contains('Delhi Cantt.')]='Delhi'\n",
        "combined_set.City[combined_set.City.str.contains('Maharashtra')]='Pune'\n",
        "combined_set.City[combined_set.City.str.contains('Pune University')]='Pune'\n",
        "combined_set.City[combined_set.City.str.contains('Gurgoan')]='Gurgaon'\n",
        "combined_set.City[combined_set.City.str.contains('Electronic City')]='Bangalore'\n",
        "combined_set.City[combined_set.City.str.contains('Whitefield')]='Bangalore'\n",
        "\n",
        "combined_set['City'] = combined_set['City'].str.strip()\n",
        "combined_set['City'] = combined_set['City'].str.lower()\n",
        "\n",
        "\n",
        "combined_set.City.unique()"
      ],
      "execution_count": 21,
      "outputs": [
        {
          "output_type": "stream",
          "text": [
            "/usr/local/lib/python3.6/dist-packages/ipykernel_launcher.py:3: SettingWithCopyWarning: \n",
            "A value is trying to be set on a copy of a slice from a DataFrame\n",
            "\n",
            "See the caveats in the documentation: https://pandas.pydata.org/pandas-docs/stable/user_guide/indexing.html#returning-a-view-versus-a-copy\n",
            "  This is separate from the ipykernel package so we can avoid doing imports until\n",
            "/usr/local/lib/python3.6/dist-packages/ipykernel_launcher.py:4: SettingWithCopyWarning: \n",
            "A value is trying to be set on a copy of a slice from a DataFrame\n",
            "\n",
            "See the caveats in the documentation: https://pandas.pydata.org/pandas-docs/stable/user_guide/indexing.html#returning-a-view-versus-a-copy\n",
            "  after removing the cwd from sys.path.\n",
            "/usr/local/lib/python3.6/dist-packages/ipykernel_launcher.py:5: SettingWithCopyWarning: \n",
            "A value is trying to be set on a copy of a slice from a DataFrame\n",
            "\n",
            "See the caveats in the documentation: https://pandas.pydata.org/pandas-docs/stable/user_guide/indexing.html#returning-a-view-versus-a-copy\n",
            "  \"\"\"\n",
            "/usr/local/lib/python3.6/dist-packages/ipykernel_launcher.py:6: SettingWithCopyWarning: \n",
            "A value is trying to be set on a copy of a slice from a DataFrame\n",
            "\n",
            "See the caveats in the documentation: https://pandas.pydata.org/pandas-docs/stable/user_guide/indexing.html#returning-a-view-versus-a-copy\n",
            "  \n",
            "/usr/local/lib/python3.6/dist-packages/ipykernel_launcher.py:7: SettingWithCopyWarning: \n",
            "A value is trying to be set on a copy of a slice from a DataFrame\n",
            "\n",
            "See the caveats in the documentation: https://pandas.pydata.org/pandas-docs/stable/user_guide/indexing.html#returning-a-view-versus-a-copy\n",
            "  import sys\n",
            "/usr/local/lib/python3.6/dist-packages/ipykernel_launcher.py:8: SettingWithCopyWarning: \n",
            "A value is trying to be set on a copy of a slice from a DataFrame\n",
            "\n",
            "See the caveats in the documentation: https://pandas.pydata.org/pandas-docs/stable/user_guide/indexing.html#returning-a-view-versus-a-copy\n",
            "  \n",
            "/usr/local/lib/python3.6/dist-packages/ipykernel_launcher.py:9: SettingWithCopyWarning: \n",
            "A value is trying to be set on a copy of a slice from a DataFrame\n",
            "\n",
            "See the caveats in the documentation: https://pandas.pydata.org/pandas-docs/stable/user_guide/indexing.html#returning-a-view-versus-a-copy\n",
            "  if __name__ == '__main__':\n",
            "/usr/local/lib/python3.6/dist-packages/ipykernel_launcher.py:10: SettingWithCopyWarning: \n",
            "A value is trying to be set on a copy of a slice from a DataFrame\n",
            "\n",
            "See the caveats in the documentation: https://pandas.pydata.org/pandas-docs/stable/user_guide/indexing.html#returning-a-view-versus-a-copy\n",
            "  # Remove the CWD from sys.path while we load stuff.\n",
            "/usr/local/lib/python3.6/dist-packages/ipykernel_launcher.py:11: SettingWithCopyWarning: \n",
            "A value is trying to be set on a copy of a slice from a DataFrame\n",
            "\n",
            "See the caveats in the documentation: https://pandas.pydata.org/pandas-docs/stable/user_guide/indexing.html#returning-a-view-versus-a-copy\n",
            "  # This is added back by InteractiveShellApp.init_path()\n",
            "/usr/local/lib/python3.6/dist-packages/ipykernel_launcher.py:12: SettingWithCopyWarning: \n",
            "A value is trying to be set on a copy of a slice from a DataFrame\n",
            "\n",
            "See the caveats in the documentation: https://pandas.pydata.org/pandas-docs/stable/user_guide/indexing.html#returning-a-view-versus-a-copy\n",
            "  if sys.path[0] == '':\n"
          ],
          "name": "stderr"
        },
        {
          "output_type": "execute_result",
          "data": {
            "text/plain": [
              "array(['pune', 'marathalli', 'mumbai', 'noida', 'bangalore', 'delhi',\n",
              "       'timarpur', 'kolkata', 'gurgaon', 'begumpet', 'majestic',\n",
              "       'hyderabad'], dtype=object)"
            ]
          },
          "metadata": {
            "tags": []
          },
          "execution_count": 21
        }
      ]
    },
    {
      "cell_type": "code",
      "metadata": {
        "id": "BnGkcgMaEbMG",
        "colab_type": "code",
        "colab": {}
      },
      "source": [
        ""
      ],
      "execution_count": 21,
      "outputs": []
    },
    {
      "cell_type": "code",
      "metadata": {
        "id": "eNEDY4bMEbMK",
        "colab_type": "code",
        "colab": {}
      },
      "source": [
        "combined_set = combined_set.drop(\"Location\", axis=1)"
      ],
      "execution_count": 22,
      "outputs": []
    },
    {
      "cell_type": "code",
      "metadata": {
        "id": "UjJnhCP1EbMN",
        "colab_type": "code",
        "colab": {
          "base_uri": "https://localhost:8080/",
          "height": 261
        },
        "outputId": "50fd8d59-2174-446f-f9b8-9cbc4a47e7cf"
      },
      "source": [
        "combined_set.head()"
      ],
      "execution_count": 23,
      "outputs": [
        {
          "output_type": "execute_result",
          "data": {
            "text/html": [
              "<div>\n",
              "<style scoped>\n",
              "    .dataframe tbody tr th:only-of-type {\n",
              "        vertical-align: middle;\n",
              "    }\n",
              "\n",
              "    .dataframe tbody tr th {\n",
              "        vertical-align: top;\n",
              "    }\n",
              "\n",
              "    .dataframe thead th {\n",
              "        text-align: right;\n",
              "    }\n",
              "</style>\n",
              "<table border=\"1\" class=\"dataframe\">\n",
              "  <thead>\n",
              "    <tr style=\"text-align: right;\">\n",
              "      <th></th>\n",
              "      <th>Restaurant</th>\n",
              "      <th>Average_Cost</th>\n",
              "      <th>Minimum_Order</th>\n",
              "      <th>Rating</th>\n",
              "      <th>Votes</th>\n",
              "      <th>Reviews</th>\n",
              "      <th>fastfood</th>\n",
              "      <th>rolls</th>\n",
              "      <th>burger</th>\n",
              "      <th>salad</th>\n",
              "      <th>wraps</th>\n",
              "      <th>icecream</th>\n",
              "      <th>desserts</th>\n",
              "      <th>italian</th>\n",
              "      <th>streetfood</th>\n",
              "      <th>mughlai</th>\n",
              "      <th>northindian</th>\n",
              "      <th>chinese</th>\n",
              "      <th>cafe</th>\n",
              "      <th>beverages</th>\n",
              "      <th>southindian</th>\n",
              "      <th>thai</th>\n",
              "      <th>asian</th>\n",
              "      <th>mithai</th>\n",
              "      <th>momos</th>\n",
              "      <th>indonesian</th>\n",
              "      <th>biryani</th>\n",
              "      <th>kerala</th>\n",
              "      <th>bihari</th>\n",
              "      <th>mexican</th>\n",
              "      <th>japanese</th>\n",
              "      <th>bakery</th>\n",
              "      <th>burmese</th>\n",
              "      <th>bubbletea</th>\n",
              "      <th>tea</th>\n",
              "      <th>pizza</th>\n",
              "      <th>lucknowi</th>\n",
              "      <th>mangalorean</th>\n",
              "      <th>european</th>\n",
              "      <th>continental</th>\n",
              "      <th>...</th>\n",
              "      <th>steak</th>\n",
              "      <th>mediterranean</th>\n",
              "      <th>bohri</th>\n",
              "      <th>afghan</th>\n",
              "      <th>goan</th>\n",
              "      <th>gujarati</th>\n",
              "      <th>bbq</th>\n",
              "      <th>rawmeats</th>\n",
              "      <th>malaysian</th>\n",
              "      <th>vietnamese</th>\n",
              "      <th>srilankan</th>\n",
              "      <th>rajasthani</th>\n",
              "      <th>poké</th>\n",
              "      <th>roastchicken</th>\n",
              "      <th>coffee</th>\n",
              "      <th>brazilian</th>\n",
              "      <th>belgian</th>\n",
              "      <th>naga</th>\n",
              "      <th>korean</th>\n",
              "      <th>modernindian</th>\n",
              "      <th>awadhi</th>\n",
              "      <th>kashmiri</th>\n",
              "      <th>french</th>\n",
              "      <th>portuguese</th>\n",
              "      <th>charcoalchicken</th>\n",
              "      <th>frozenyogurt</th>\n",
              "      <th>bangladeshi</th>\n",
              "      <th>malwani</th>\n",
              "      <th>iranian</th>\n",
              "      <th>nepalese</th>\n",
              "      <th>indian</th>\n",
              "      <th>tex-mex</th>\n",
              "      <th>hotdogs</th>\n",
              "      <th>southamerican</th>\n",
              "      <th>middleeastern</th>\n",
              "      <th>african</th>\n",
              "      <th>turkish</th>\n",
              "      <th>israeli</th>\n",
              "      <th>greek</th>\n",
              "      <th>City</th>\n",
              "    </tr>\n",
              "  </thead>\n",
              "  <tbody>\n",
              "    <tr>\n",
              "      <th>0</th>\n",
              "      <td>ID_6321</td>\n",
              "      <td>₹200</td>\n",
              "      <td>₹50</td>\n",
              "      <td>3.5</td>\n",
              "      <td>12</td>\n",
              "      <td>4</td>\n",
              "      <td>1</td>\n",
              "      <td>1</td>\n",
              "      <td>1</td>\n",
              "      <td>1</td>\n",
              "      <td>1</td>\n",
              "      <td>0</td>\n",
              "      <td>0</td>\n",
              "      <td>0</td>\n",
              "      <td>0</td>\n",
              "      <td>0</td>\n",
              "      <td>0</td>\n",
              "      <td>0</td>\n",
              "      <td>0</td>\n",
              "      <td>0</td>\n",
              "      <td>0</td>\n",
              "      <td>0</td>\n",
              "      <td>0</td>\n",
              "      <td>0</td>\n",
              "      <td>0</td>\n",
              "      <td>0</td>\n",
              "      <td>0</td>\n",
              "      <td>0</td>\n",
              "      <td>0</td>\n",
              "      <td>0</td>\n",
              "      <td>0</td>\n",
              "      <td>0</td>\n",
              "      <td>0</td>\n",
              "      <td>0</td>\n",
              "      <td>0</td>\n",
              "      <td>0</td>\n",
              "      <td>0</td>\n",
              "      <td>0</td>\n",
              "      <td>0</td>\n",
              "      <td>0</td>\n",
              "      <td>...</td>\n",
              "      <td>0</td>\n",
              "      <td>0</td>\n",
              "      <td>0</td>\n",
              "      <td>0</td>\n",
              "      <td>0</td>\n",
              "      <td>0</td>\n",
              "      <td>0</td>\n",
              "      <td>0</td>\n",
              "      <td>0</td>\n",
              "      <td>0</td>\n",
              "      <td>0</td>\n",
              "      <td>0</td>\n",
              "      <td>0</td>\n",
              "      <td>0</td>\n",
              "      <td>0</td>\n",
              "      <td>0</td>\n",
              "      <td>0</td>\n",
              "      <td>0</td>\n",
              "      <td>0</td>\n",
              "      <td>0</td>\n",
              "      <td>0</td>\n",
              "      <td>0</td>\n",
              "      <td>0</td>\n",
              "      <td>0</td>\n",
              "      <td>0</td>\n",
              "      <td>0</td>\n",
              "      <td>0</td>\n",
              "      <td>0</td>\n",
              "      <td>0</td>\n",
              "      <td>0</td>\n",
              "      <td>0</td>\n",
              "      <td>0</td>\n",
              "      <td>0</td>\n",
              "      <td>0</td>\n",
              "      <td>0</td>\n",
              "      <td>0</td>\n",
              "      <td>0</td>\n",
              "      <td>0</td>\n",
              "      <td>0</td>\n",
              "      <td>pune</td>\n",
              "    </tr>\n",
              "    <tr>\n",
              "      <th>1</th>\n",
              "      <td>ID_2882</td>\n",
              "      <td>₹100</td>\n",
              "      <td>₹50</td>\n",
              "      <td>3.5</td>\n",
              "      <td>11</td>\n",
              "      <td>4</td>\n",
              "      <td>0</td>\n",
              "      <td>0</td>\n",
              "      <td>0</td>\n",
              "      <td>0</td>\n",
              "      <td>0</td>\n",
              "      <td>1</td>\n",
              "      <td>1</td>\n",
              "      <td>0</td>\n",
              "      <td>0</td>\n",
              "      <td>0</td>\n",
              "      <td>0</td>\n",
              "      <td>0</td>\n",
              "      <td>0</td>\n",
              "      <td>0</td>\n",
              "      <td>0</td>\n",
              "      <td>0</td>\n",
              "      <td>0</td>\n",
              "      <td>0</td>\n",
              "      <td>0</td>\n",
              "      <td>0</td>\n",
              "      <td>0</td>\n",
              "      <td>0</td>\n",
              "      <td>0</td>\n",
              "      <td>0</td>\n",
              "      <td>0</td>\n",
              "      <td>0</td>\n",
              "      <td>0</td>\n",
              "      <td>0</td>\n",
              "      <td>0</td>\n",
              "      <td>0</td>\n",
              "      <td>0</td>\n",
              "      <td>0</td>\n",
              "      <td>0</td>\n",
              "      <td>0</td>\n",
              "      <td>...</td>\n",
              "      <td>0</td>\n",
              "      <td>0</td>\n",
              "      <td>0</td>\n",
              "      <td>0</td>\n",
              "      <td>0</td>\n",
              "      <td>0</td>\n",
              "      <td>0</td>\n",
              "      <td>0</td>\n",
              "      <td>0</td>\n",
              "      <td>0</td>\n",
              "      <td>0</td>\n",
              "      <td>0</td>\n",
              "      <td>0</td>\n",
              "      <td>0</td>\n",
              "      <td>0</td>\n",
              "      <td>0</td>\n",
              "      <td>0</td>\n",
              "      <td>0</td>\n",
              "      <td>0</td>\n",
              "      <td>0</td>\n",
              "      <td>0</td>\n",
              "      <td>0</td>\n",
              "      <td>0</td>\n",
              "      <td>0</td>\n",
              "      <td>0</td>\n",
              "      <td>0</td>\n",
              "      <td>0</td>\n",
              "      <td>0</td>\n",
              "      <td>0</td>\n",
              "      <td>0</td>\n",
              "      <td>0</td>\n",
              "      <td>0</td>\n",
              "      <td>0</td>\n",
              "      <td>0</td>\n",
              "      <td>0</td>\n",
              "      <td>0</td>\n",
              "      <td>0</td>\n",
              "      <td>0</td>\n",
              "      <td>0</td>\n",
              "      <td>marathalli</td>\n",
              "    </tr>\n",
              "    <tr>\n",
              "      <th>2</th>\n",
              "      <td>ID_1595</td>\n",
              "      <td>₹150</td>\n",
              "      <td>₹50</td>\n",
              "      <td>3.6</td>\n",
              "      <td>99</td>\n",
              "      <td>30</td>\n",
              "      <td>1</td>\n",
              "      <td>0</td>\n",
              "      <td>0</td>\n",
              "      <td>0</td>\n",
              "      <td>0</td>\n",
              "      <td>0</td>\n",
              "      <td>0</td>\n",
              "      <td>1</td>\n",
              "      <td>1</td>\n",
              "      <td>0</td>\n",
              "      <td>0</td>\n",
              "      <td>0</td>\n",
              "      <td>0</td>\n",
              "      <td>0</td>\n",
              "      <td>0</td>\n",
              "      <td>0</td>\n",
              "      <td>0</td>\n",
              "      <td>0</td>\n",
              "      <td>0</td>\n",
              "      <td>0</td>\n",
              "      <td>0</td>\n",
              "      <td>0</td>\n",
              "      <td>0</td>\n",
              "      <td>0</td>\n",
              "      <td>0</td>\n",
              "      <td>0</td>\n",
              "      <td>0</td>\n",
              "      <td>0</td>\n",
              "      <td>0</td>\n",
              "      <td>0</td>\n",
              "      <td>0</td>\n",
              "      <td>0</td>\n",
              "      <td>0</td>\n",
              "      <td>0</td>\n",
              "      <td>...</td>\n",
              "      <td>0</td>\n",
              "      <td>0</td>\n",
              "      <td>0</td>\n",
              "      <td>0</td>\n",
              "      <td>0</td>\n",
              "      <td>0</td>\n",
              "      <td>0</td>\n",
              "      <td>0</td>\n",
              "      <td>0</td>\n",
              "      <td>0</td>\n",
              "      <td>0</td>\n",
              "      <td>0</td>\n",
              "      <td>0</td>\n",
              "      <td>0</td>\n",
              "      <td>0</td>\n",
              "      <td>0</td>\n",
              "      <td>0</td>\n",
              "      <td>0</td>\n",
              "      <td>0</td>\n",
              "      <td>0</td>\n",
              "      <td>0</td>\n",
              "      <td>0</td>\n",
              "      <td>0</td>\n",
              "      <td>0</td>\n",
              "      <td>0</td>\n",
              "      <td>0</td>\n",
              "      <td>0</td>\n",
              "      <td>0</td>\n",
              "      <td>0</td>\n",
              "      <td>0</td>\n",
              "      <td>0</td>\n",
              "      <td>0</td>\n",
              "      <td>0</td>\n",
              "      <td>0</td>\n",
              "      <td>0</td>\n",
              "      <td>0</td>\n",
              "      <td>0</td>\n",
              "      <td>0</td>\n",
              "      <td>0</td>\n",
              "      <td>mumbai</td>\n",
              "    </tr>\n",
              "    <tr>\n",
              "      <th>3</th>\n",
              "      <td>ID_5929</td>\n",
              "      <td>₹250</td>\n",
              "      <td>₹99</td>\n",
              "      <td>3.7</td>\n",
              "      <td>176</td>\n",
              "      <td>95</td>\n",
              "      <td>0</td>\n",
              "      <td>0</td>\n",
              "      <td>0</td>\n",
              "      <td>0</td>\n",
              "      <td>0</td>\n",
              "      <td>0</td>\n",
              "      <td>0</td>\n",
              "      <td>0</td>\n",
              "      <td>0</td>\n",
              "      <td>1</td>\n",
              "      <td>1</td>\n",
              "      <td>1</td>\n",
              "      <td>0</td>\n",
              "      <td>0</td>\n",
              "      <td>0</td>\n",
              "      <td>0</td>\n",
              "      <td>0</td>\n",
              "      <td>0</td>\n",
              "      <td>0</td>\n",
              "      <td>0</td>\n",
              "      <td>0</td>\n",
              "      <td>0</td>\n",
              "      <td>0</td>\n",
              "      <td>0</td>\n",
              "      <td>0</td>\n",
              "      <td>0</td>\n",
              "      <td>0</td>\n",
              "      <td>0</td>\n",
              "      <td>0</td>\n",
              "      <td>0</td>\n",
              "      <td>0</td>\n",
              "      <td>0</td>\n",
              "      <td>0</td>\n",
              "      <td>0</td>\n",
              "      <td>...</td>\n",
              "      <td>0</td>\n",
              "      <td>0</td>\n",
              "      <td>0</td>\n",
              "      <td>0</td>\n",
              "      <td>0</td>\n",
              "      <td>0</td>\n",
              "      <td>0</td>\n",
              "      <td>0</td>\n",
              "      <td>0</td>\n",
              "      <td>0</td>\n",
              "      <td>0</td>\n",
              "      <td>0</td>\n",
              "      <td>0</td>\n",
              "      <td>0</td>\n",
              "      <td>0</td>\n",
              "      <td>0</td>\n",
              "      <td>0</td>\n",
              "      <td>0</td>\n",
              "      <td>0</td>\n",
              "      <td>0</td>\n",
              "      <td>0</td>\n",
              "      <td>0</td>\n",
              "      <td>0</td>\n",
              "      <td>0</td>\n",
              "      <td>0</td>\n",
              "      <td>0</td>\n",
              "      <td>0</td>\n",
              "      <td>0</td>\n",
              "      <td>0</td>\n",
              "      <td>0</td>\n",
              "      <td>1</td>\n",
              "      <td>0</td>\n",
              "      <td>0</td>\n",
              "      <td>0</td>\n",
              "      <td>0</td>\n",
              "      <td>0</td>\n",
              "      <td>0</td>\n",
              "      <td>0</td>\n",
              "      <td>0</td>\n",
              "      <td>noida</td>\n",
              "    </tr>\n",
              "    <tr>\n",
              "      <th>4</th>\n",
              "      <td>ID_6123</td>\n",
              "      <td>₹200</td>\n",
              "      <td>₹99</td>\n",
              "      <td>3.2</td>\n",
              "      <td>521</td>\n",
              "      <td>235</td>\n",
              "      <td>0</td>\n",
              "      <td>0</td>\n",
              "      <td>0</td>\n",
              "      <td>0</td>\n",
              "      <td>0</td>\n",
              "      <td>0</td>\n",
              "      <td>0</td>\n",
              "      <td>0</td>\n",
              "      <td>0</td>\n",
              "      <td>0</td>\n",
              "      <td>0</td>\n",
              "      <td>0</td>\n",
              "      <td>1</td>\n",
              "      <td>1</td>\n",
              "      <td>0</td>\n",
              "      <td>0</td>\n",
              "      <td>0</td>\n",
              "      <td>0</td>\n",
              "      <td>0</td>\n",
              "      <td>0</td>\n",
              "      <td>0</td>\n",
              "      <td>0</td>\n",
              "      <td>0</td>\n",
              "      <td>0</td>\n",
              "      <td>0</td>\n",
              "      <td>0</td>\n",
              "      <td>0</td>\n",
              "      <td>0</td>\n",
              "      <td>0</td>\n",
              "      <td>0</td>\n",
              "      <td>0</td>\n",
              "      <td>0</td>\n",
              "      <td>0</td>\n",
              "      <td>0</td>\n",
              "      <td>...</td>\n",
              "      <td>0</td>\n",
              "      <td>0</td>\n",
              "      <td>0</td>\n",
              "      <td>0</td>\n",
              "      <td>0</td>\n",
              "      <td>0</td>\n",
              "      <td>0</td>\n",
              "      <td>0</td>\n",
              "      <td>0</td>\n",
              "      <td>0</td>\n",
              "      <td>0</td>\n",
              "      <td>0</td>\n",
              "      <td>0</td>\n",
              "      <td>0</td>\n",
              "      <td>0</td>\n",
              "      <td>0</td>\n",
              "      <td>0</td>\n",
              "      <td>0</td>\n",
              "      <td>0</td>\n",
              "      <td>0</td>\n",
              "      <td>0</td>\n",
              "      <td>0</td>\n",
              "      <td>0</td>\n",
              "      <td>0</td>\n",
              "      <td>0</td>\n",
              "      <td>0</td>\n",
              "      <td>0</td>\n",
              "      <td>0</td>\n",
              "      <td>0</td>\n",
              "      <td>0</td>\n",
              "      <td>0</td>\n",
              "      <td>0</td>\n",
              "      <td>0</td>\n",
              "      <td>0</td>\n",
              "      <td>0</td>\n",
              "      <td>0</td>\n",
              "      <td>0</td>\n",
              "      <td>0</td>\n",
              "      <td>0</td>\n",
              "      <td>bangalore</td>\n",
              "    </tr>\n",
              "  </tbody>\n",
              "</table>\n",
              "<p>5 rows × 108 columns</p>\n",
              "</div>"
            ],
            "text/plain": [
              "  Restaurant Average_Cost Minimum_Order  ... israeli greek        City\n",
              "0    ID_6321         ₹200           ₹50  ...       0     0        pune\n",
              "1    ID_2882         ₹100           ₹50  ...       0     0  marathalli\n",
              "2    ID_1595         ₹150           ₹50  ...       0     0      mumbai\n",
              "3    ID_5929         ₹250           ₹99  ...       0     0       noida\n",
              "4    ID_6123         ₹200           ₹99  ...       0     0   bangalore\n",
              "\n",
              "[5 rows x 108 columns]"
            ]
          },
          "metadata": {
            "tags": []
          },
          "execution_count": 23
        }
      ]
    },
    {
      "cell_type": "code",
      "metadata": {
        "id": "-KMLCq6-EbMT",
        "colab_type": "code",
        "colab": {}
      },
      "source": [
        "combined_set['Average_Cost'] = combined_set['Average_Cost'].str.replace(\"[^0-9]\",\"\")\n",
        "combined_set['Average_Cost'] = combined_set['Average_Cost'].str.strip()\n",
        "combined_set['Average_Cost']=pd.to_numeric(combined_set['Average_Cost'])"
      ],
      "execution_count": 24,
      "outputs": []
    },
    {
      "cell_type": "code",
      "metadata": {
        "id": "zqBHNtisEbMX",
        "colab_type": "code",
        "colab": {}
      },
      "source": [
        "combined_set['Minimum_Order'] = combined_set['Minimum_Order'].str.replace(\"[^0-9]\",\"\")\n",
        "combined_set['Minimum_Order'] = combined_set['Minimum_Order'].str.strip()\n",
        "combined_set['Minimum_Order']=pd.to_numeric(combined_set['Minimum_Order'])"
      ],
      "execution_count": 25,
      "outputs": []
    },
    {
      "cell_type": "code",
      "metadata": {
        "id": "5gNesslgEbMa",
        "colab_type": "code",
        "colab": {
          "base_uri": "https://localhost:8080/",
          "height": 105
        },
        "outputId": "07566478-411a-4218-c863-0c9b4581728d"
      },
      "source": [
        "combined_set.Rating.unique()"
      ],
      "execution_count": 26,
      "outputs": [
        {
          "output_type": "execute_result",
          "data": {
            "text/plain": [
              "array(['3.5', '3.6', '3.7', '3.2', '3.8', '4.0', '3.9', '4.2', '-', '2.8',\n",
              "       '3.0', '3.3', '3.1', '4.7', '3.4', '4.1', 'NEW', '2.9', '4.6',\n",
              "       '4.3', '2.6', '4.5', '4.4', '4.8', '2.4', '2.7', '2.5',\n",
              "       'Opening Soon', '2.2', '4.9', '2.3', '2.1', 'Temporarily Closed'],\n",
              "      dtype=object)"
            ]
          },
          "metadata": {
            "tags": []
          },
          "execution_count": 26
        }
      ]
    },
    {
      "cell_type": "code",
      "metadata": {
        "id": "G4xaaUq0EbMg",
        "colab_type": "code",
        "colab": {}
      },
      "source": [
        "combined_set.Rating = combined_set.Rating.replace(\"NEW\",np.nan)\n",
        "combined_set.Rating = combined_set.Rating.replace(\"-\",np.nan)\n",
        "combined_set.Rating = combined_set.Rating.replace(\"Opening Soon\",np.nan)\n",
        "combined_set.Rating = combined_set.Rating.replace(\"Temporarily Closed\",np.nan)\n",
        "combined_set.Rating = combined_set.Rating.astype('float')"
      ],
      "execution_count": 27,
      "outputs": []
    },
    {
      "cell_type": "code",
      "metadata": {
        "id": "uT986WzkEbMk",
        "colab_type": "code",
        "colab": {}
      },
      "source": [
        "combined_set.Votes = combined_set.Votes.replace(\"-\",np.nan)\n",
        "combined_set.Votes = combined_set.Votes.astype('float')"
      ],
      "execution_count": 28,
      "outputs": []
    },
    {
      "cell_type": "code",
      "metadata": {
        "id": "MBHxhE9EEbMp",
        "colab_type": "code",
        "colab": {
          "base_uri": "https://localhost:8080/",
          "height": 261
        },
        "outputId": "e08aaaae-0565-4540-9186-1d0d7ca6224a"
      },
      "source": [
        "combined_set.head()"
      ],
      "execution_count": 29,
      "outputs": [
        {
          "output_type": "execute_result",
          "data": {
            "text/html": [
              "<div>\n",
              "<style scoped>\n",
              "    .dataframe tbody tr th:only-of-type {\n",
              "        vertical-align: middle;\n",
              "    }\n",
              "\n",
              "    .dataframe tbody tr th {\n",
              "        vertical-align: top;\n",
              "    }\n",
              "\n",
              "    .dataframe thead th {\n",
              "        text-align: right;\n",
              "    }\n",
              "</style>\n",
              "<table border=\"1\" class=\"dataframe\">\n",
              "  <thead>\n",
              "    <tr style=\"text-align: right;\">\n",
              "      <th></th>\n",
              "      <th>Restaurant</th>\n",
              "      <th>Average_Cost</th>\n",
              "      <th>Minimum_Order</th>\n",
              "      <th>Rating</th>\n",
              "      <th>Votes</th>\n",
              "      <th>Reviews</th>\n",
              "      <th>fastfood</th>\n",
              "      <th>rolls</th>\n",
              "      <th>burger</th>\n",
              "      <th>salad</th>\n",
              "      <th>wraps</th>\n",
              "      <th>icecream</th>\n",
              "      <th>desserts</th>\n",
              "      <th>italian</th>\n",
              "      <th>streetfood</th>\n",
              "      <th>mughlai</th>\n",
              "      <th>northindian</th>\n",
              "      <th>chinese</th>\n",
              "      <th>cafe</th>\n",
              "      <th>beverages</th>\n",
              "      <th>southindian</th>\n",
              "      <th>thai</th>\n",
              "      <th>asian</th>\n",
              "      <th>mithai</th>\n",
              "      <th>momos</th>\n",
              "      <th>indonesian</th>\n",
              "      <th>biryani</th>\n",
              "      <th>kerala</th>\n",
              "      <th>bihari</th>\n",
              "      <th>mexican</th>\n",
              "      <th>japanese</th>\n",
              "      <th>bakery</th>\n",
              "      <th>burmese</th>\n",
              "      <th>bubbletea</th>\n",
              "      <th>tea</th>\n",
              "      <th>pizza</th>\n",
              "      <th>lucknowi</th>\n",
              "      <th>mangalorean</th>\n",
              "      <th>european</th>\n",
              "      <th>continental</th>\n",
              "      <th>...</th>\n",
              "      <th>steak</th>\n",
              "      <th>mediterranean</th>\n",
              "      <th>bohri</th>\n",
              "      <th>afghan</th>\n",
              "      <th>goan</th>\n",
              "      <th>gujarati</th>\n",
              "      <th>bbq</th>\n",
              "      <th>rawmeats</th>\n",
              "      <th>malaysian</th>\n",
              "      <th>vietnamese</th>\n",
              "      <th>srilankan</th>\n",
              "      <th>rajasthani</th>\n",
              "      <th>poké</th>\n",
              "      <th>roastchicken</th>\n",
              "      <th>coffee</th>\n",
              "      <th>brazilian</th>\n",
              "      <th>belgian</th>\n",
              "      <th>naga</th>\n",
              "      <th>korean</th>\n",
              "      <th>modernindian</th>\n",
              "      <th>awadhi</th>\n",
              "      <th>kashmiri</th>\n",
              "      <th>french</th>\n",
              "      <th>portuguese</th>\n",
              "      <th>charcoalchicken</th>\n",
              "      <th>frozenyogurt</th>\n",
              "      <th>bangladeshi</th>\n",
              "      <th>malwani</th>\n",
              "      <th>iranian</th>\n",
              "      <th>nepalese</th>\n",
              "      <th>indian</th>\n",
              "      <th>tex-mex</th>\n",
              "      <th>hotdogs</th>\n",
              "      <th>southamerican</th>\n",
              "      <th>middleeastern</th>\n",
              "      <th>african</th>\n",
              "      <th>turkish</th>\n",
              "      <th>israeli</th>\n",
              "      <th>greek</th>\n",
              "      <th>City</th>\n",
              "    </tr>\n",
              "  </thead>\n",
              "  <tbody>\n",
              "    <tr>\n",
              "      <th>0</th>\n",
              "      <td>ID_6321</td>\n",
              "      <td>200.0</td>\n",
              "      <td>50</td>\n",
              "      <td>3.5</td>\n",
              "      <td>12.0</td>\n",
              "      <td>4</td>\n",
              "      <td>1</td>\n",
              "      <td>1</td>\n",
              "      <td>1</td>\n",
              "      <td>1</td>\n",
              "      <td>1</td>\n",
              "      <td>0</td>\n",
              "      <td>0</td>\n",
              "      <td>0</td>\n",
              "      <td>0</td>\n",
              "      <td>0</td>\n",
              "      <td>0</td>\n",
              "      <td>0</td>\n",
              "      <td>0</td>\n",
              "      <td>0</td>\n",
              "      <td>0</td>\n",
              "      <td>0</td>\n",
              "      <td>0</td>\n",
              "      <td>0</td>\n",
              "      <td>0</td>\n",
              "      <td>0</td>\n",
              "      <td>0</td>\n",
              "      <td>0</td>\n",
              "      <td>0</td>\n",
              "      <td>0</td>\n",
              "      <td>0</td>\n",
              "      <td>0</td>\n",
              "      <td>0</td>\n",
              "      <td>0</td>\n",
              "      <td>0</td>\n",
              "      <td>0</td>\n",
              "      <td>0</td>\n",
              "      <td>0</td>\n",
              "      <td>0</td>\n",
              "      <td>0</td>\n",
              "      <td>...</td>\n",
              "      <td>0</td>\n",
              "      <td>0</td>\n",
              "      <td>0</td>\n",
              "      <td>0</td>\n",
              "      <td>0</td>\n",
              "      <td>0</td>\n",
              "      <td>0</td>\n",
              "      <td>0</td>\n",
              "      <td>0</td>\n",
              "      <td>0</td>\n",
              "      <td>0</td>\n",
              "      <td>0</td>\n",
              "      <td>0</td>\n",
              "      <td>0</td>\n",
              "      <td>0</td>\n",
              "      <td>0</td>\n",
              "      <td>0</td>\n",
              "      <td>0</td>\n",
              "      <td>0</td>\n",
              "      <td>0</td>\n",
              "      <td>0</td>\n",
              "      <td>0</td>\n",
              "      <td>0</td>\n",
              "      <td>0</td>\n",
              "      <td>0</td>\n",
              "      <td>0</td>\n",
              "      <td>0</td>\n",
              "      <td>0</td>\n",
              "      <td>0</td>\n",
              "      <td>0</td>\n",
              "      <td>0</td>\n",
              "      <td>0</td>\n",
              "      <td>0</td>\n",
              "      <td>0</td>\n",
              "      <td>0</td>\n",
              "      <td>0</td>\n",
              "      <td>0</td>\n",
              "      <td>0</td>\n",
              "      <td>0</td>\n",
              "      <td>pune</td>\n",
              "    </tr>\n",
              "    <tr>\n",
              "      <th>1</th>\n",
              "      <td>ID_2882</td>\n",
              "      <td>100.0</td>\n",
              "      <td>50</td>\n",
              "      <td>3.5</td>\n",
              "      <td>11.0</td>\n",
              "      <td>4</td>\n",
              "      <td>0</td>\n",
              "      <td>0</td>\n",
              "      <td>0</td>\n",
              "      <td>0</td>\n",
              "      <td>0</td>\n",
              "      <td>1</td>\n",
              "      <td>1</td>\n",
              "      <td>0</td>\n",
              "      <td>0</td>\n",
              "      <td>0</td>\n",
              "      <td>0</td>\n",
              "      <td>0</td>\n",
              "      <td>0</td>\n",
              "      <td>0</td>\n",
              "      <td>0</td>\n",
              "      <td>0</td>\n",
              "      <td>0</td>\n",
              "      <td>0</td>\n",
              "      <td>0</td>\n",
              "      <td>0</td>\n",
              "      <td>0</td>\n",
              "      <td>0</td>\n",
              "      <td>0</td>\n",
              "      <td>0</td>\n",
              "      <td>0</td>\n",
              "      <td>0</td>\n",
              "      <td>0</td>\n",
              "      <td>0</td>\n",
              "      <td>0</td>\n",
              "      <td>0</td>\n",
              "      <td>0</td>\n",
              "      <td>0</td>\n",
              "      <td>0</td>\n",
              "      <td>0</td>\n",
              "      <td>...</td>\n",
              "      <td>0</td>\n",
              "      <td>0</td>\n",
              "      <td>0</td>\n",
              "      <td>0</td>\n",
              "      <td>0</td>\n",
              "      <td>0</td>\n",
              "      <td>0</td>\n",
              "      <td>0</td>\n",
              "      <td>0</td>\n",
              "      <td>0</td>\n",
              "      <td>0</td>\n",
              "      <td>0</td>\n",
              "      <td>0</td>\n",
              "      <td>0</td>\n",
              "      <td>0</td>\n",
              "      <td>0</td>\n",
              "      <td>0</td>\n",
              "      <td>0</td>\n",
              "      <td>0</td>\n",
              "      <td>0</td>\n",
              "      <td>0</td>\n",
              "      <td>0</td>\n",
              "      <td>0</td>\n",
              "      <td>0</td>\n",
              "      <td>0</td>\n",
              "      <td>0</td>\n",
              "      <td>0</td>\n",
              "      <td>0</td>\n",
              "      <td>0</td>\n",
              "      <td>0</td>\n",
              "      <td>0</td>\n",
              "      <td>0</td>\n",
              "      <td>0</td>\n",
              "      <td>0</td>\n",
              "      <td>0</td>\n",
              "      <td>0</td>\n",
              "      <td>0</td>\n",
              "      <td>0</td>\n",
              "      <td>0</td>\n",
              "      <td>marathalli</td>\n",
              "    </tr>\n",
              "    <tr>\n",
              "      <th>2</th>\n",
              "      <td>ID_1595</td>\n",
              "      <td>150.0</td>\n",
              "      <td>50</td>\n",
              "      <td>3.6</td>\n",
              "      <td>99.0</td>\n",
              "      <td>30</td>\n",
              "      <td>1</td>\n",
              "      <td>0</td>\n",
              "      <td>0</td>\n",
              "      <td>0</td>\n",
              "      <td>0</td>\n",
              "      <td>0</td>\n",
              "      <td>0</td>\n",
              "      <td>1</td>\n",
              "      <td>1</td>\n",
              "      <td>0</td>\n",
              "      <td>0</td>\n",
              "      <td>0</td>\n",
              "      <td>0</td>\n",
              "      <td>0</td>\n",
              "      <td>0</td>\n",
              "      <td>0</td>\n",
              "      <td>0</td>\n",
              "      <td>0</td>\n",
              "      <td>0</td>\n",
              "      <td>0</td>\n",
              "      <td>0</td>\n",
              "      <td>0</td>\n",
              "      <td>0</td>\n",
              "      <td>0</td>\n",
              "      <td>0</td>\n",
              "      <td>0</td>\n",
              "      <td>0</td>\n",
              "      <td>0</td>\n",
              "      <td>0</td>\n",
              "      <td>0</td>\n",
              "      <td>0</td>\n",
              "      <td>0</td>\n",
              "      <td>0</td>\n",
              "      <td>0</td>\n",
              "      <td>...</td>\n",
              "      <td>0</td>\n",
              "      <td>0</td>\n",
              "      <td>0</td>\n",
              "      <td>0</td>\n",
              "      <td>0</td>\n",
              "      <td>0</td>\n",
              "      <td>0</td>\n",
              "      <td>0</td>\n",
              "      <td>0</td>\n",
              "      <td>0</td>\n",
              "      <td>0</td>\n",
              "      <td>0</td>\n",
              "      <td>0</td>\n",
              "      <td>0</td>\n",
              "      <td>0</td>\n",
              "      <td>0</td>\n",
              "      <td>0</td>\n",
              "      <td>0</td>\n",
              "      <td>0</td>\n",
              "      <td>0</td>\n",
              "      <td>0</td>\n",
              "      <td>0</td>\n",
              "      <td>0</td>\n",
              "      <td>0</td>\n",
              "      <td>0</td>\n",
              "      <td>0</td>\n",
              "      <td>0</td>\n",
              "      <td>0</td>\n",
              "      <td>0</td>\n",
              "      <td>0</td>\n",
              "      <td>0</td>\n",
              "      <td>0</td>\n",
              "      <td>0</td>\n",
              "      <td>0</td>\n",
              "      <td>0</td>\n",
              "      <td>0</td>\n",
              "      <td>0</td>\n",
              "      <td>0</td>\n",
              "      <td>0</td>\n",
              "      <td>mumbai</td>\n",
              "    </tr>\n",
              "    <tr>\n",
              "      <th>3</th>\n",
              "      <td>ID_5929</td>\n",
              "      <td>250.0</td>\n",
              "      <td>99</td>\n",
              "      <td>3.7</td>\n",
              "      <td>176.0</td>\n",
              "      <td>95</td>\n",
              "      <td>0</td>\n",
              "      <td>0</td>\n",
              "      <td>0</td>\n",
              "      <td>0</td>\n",
              "      <td>0</td>\n",
              "      <td>0</td>\n",
              "      <td>0</td>\n",
              "      <td>0</td>\n",
              "      <td>0</td>\n",
              "      <td>1</td>\n",
              "      <td>1</td>\n",
              "      <td>1</td>\n",
              "      <td>0</td>\n",
              "      <td>0</td>\n",
              "      <td>0</td>\n",
              "      <td>0</td>\n",
              "      <td>0</td>\n",
              "      <td>0</td>\n",
              "      <td>0</td>\n",
              "      <td>0</td>\n",
              "      <td>0</td>\n",
              "      <td>0</td>\n",
              "      <td>0</td>\n",
              "      <td>0</td>\n",
              "      <td>0</td>\n",
              "      <td>0</td>\n",
              "      <td>0</td>\n",
              "      <td>0</td>\n",
              "      <td>0</td>\n",
              "      <td>0</td>\n",
              "      <td>0</td>\n",
              "      <td>0</td>\n",
              "      <td>0</td>\n",
              "      <td>0</td>\n",
              "      <td>...</td>\n",
              "      <td>0</td>\n",
              "      <td>0</td>\n",
              "      <td>0</td>\n",
              "      <td>0</td>\n",
              "      <td>0</td>\n",
              "      <td>0</td>\n",
              "      <td>0</td>\n",
              "      <td>0</td>\n",
              "      <td>0</td>\n",
              "      <td>0</td>\n",
              "      <td>0</td>\n",
              "      <td>0</td>\n",
              "      <td>0</td>\n",
              "      <td>0</td>\n",
              "      <td>0</td>\n",
              "      <td>0</td>\n",
              "      <td>0</td>\n",
              "      <td>0</td>\n",
              "      <td>0</td>\n",
              "      <td>0</td>\n",
              "      <td>0</td>\n",
              "      <td>0</td>\n",
              "      <td>0</td>\n",
              "      <td>0</td>\n",
              "      <td>0</td>\n",
              "      <td>0</td>\n",
              "      <td>0</td>\n",
              "      <td>0</td>\n",
              "      <td>0</td>\n",
              "      <td>0</td>\n",
              "      <td>1</td>\n",
              "      <td>0</td>\n",
              "      <td>0</td>\n",
              "      <td>0</td>\n",
              "      <td>0</td>\n",
              "      <td>0</td>\n",
              "      <td>0</td>\n",
              "      <td>0</td>\n",
              "      <td>0</td>\n",
              "      <td>noida</td>\n",
              "    </tr>\n",
              "    <tr>\n",
              "      <th>4</th>\n",
              "      <td>ID_6123</td>\n",
              "      <td>200.0</td>\n",
              "      <td>99</td>\n",
              "      <td>3.2</td>\n",
              "      <td>521.0</td>\n",
              "      <td>235</td>\n",
              "      <td>0</td>\n",
              "      <td>0</td>\n",
              "      <td>0</td>\n",
              "      <td>0</td>\n",
              "      <td>0</td>\n",
              "      <td>0</td>\n",
              "      <td>0</td>\n",
              "      <td>0</td>\n",
              "      <td>0</td>\n",
              "      <td>0</td>\n",
              "      <td>0</td>\n",
              "      <td>0</td>\n",
              "      <td>1</td>\n",
              "      <td>1</td>\n",
              "      <td>0</td>\n",
              "      <td>0</td>\n",
              "      <td>0</td>\n",
              "      <td>0</td>\n",
              "      <td>0</td>\n",
              "      <td>0</td>\n",
              "      <td>0</td>\n",
              "      <td>0</td>\n",
              "      <td>0</td>\n",
              "      <td>0</td>\n",
              "      <td>0</td>\n",
              "      <td>0</td>\n",
              "      <td>0</td>\n",
              "      <td>0</td>\n",
              "      <td>0</td>\n",
              "      <td>0</td>\n",
              "      <td>0</td>\n",
              "      <td>0</td>\n",
              "      <td>0</td>\n",
              "      <td>0</td>\n",
              "      <td>...</td>\n",
              "      <td>0</td>\n",
              "      <td>0</td>\n",
              "      <td>0</td>\n",
              "      <td>0</td>\n",
              "      <td>0</td>\n",
              "      <td>0</td>\n",
              "      <td>0</td>\n",
              "      <td>0</td>\n",
              "      <td>0</td>\n",
              "      <td>0</td>\n",
              "      <td>0</td>\n",
              "      <td>0</td>\n",
              "      <td>0</td>\n",
              "      <td>0</td>\n",
              "      <td>0</td>\n",
              "      <td>0</td>\n",
              "      <td>0</td>\n",
              "      <td>0</td>\n",
              "      <td>0</td>\n",
              "      <td>0</td>\n",
              "      <td>0</td>\n",
              "      <td>0</td>\n",
              "      <td>0</td>\n",
              "      <td>0</td>\n",
              "      <td>0</td>\n",
              "      <td>0</td>\n",
              "      <td>0</td>\n",
              "      <td>0</td>\n",
              "      <td>0</td>\n",
              "      <td>0</td>\n",
              "      <td>0</td>\n",
              "      <td>0</td>\n",
              "      <td>0</td>\n",
              "      <td>0</td>\n",
              "      <td>0</td>\n",
              "      <td>0</td>\n",
              "      <td>0</td>\n",
              "      <td>0</td>\n",
              "      <td>0</td>\n",
              "      <td>bangalore</td>\n",
              "    </tr>\n",
              "  </tbody>\n",
              "</table>\n",
              "<p>5 rows × 108 columns</p>\n",
              "</div>"
            ],
            "text/plain": [
              "  Restaurant  Average_Cost  Minimum_Order  ...  israeli  greek        City\n",
              "0    ID_6321         200.0             50  ...        0      0        pune\n",
              "1    ID_2882         100.0             50  ...        0      0  marathalli\n",
              "2    ID_1595         150.0             50  ...        0      0      mumbai\n",
              "3    ID_5929         250.0             99  ...        0      0       noida\n",
              "4    ID_6123         200.0             99  ...        0      0   bangalore\n",
              "\n",
              "[5 rows x 108 columns]"
            ]
          },
          "metadata": {
            "tags": []
          },
          "execution_count": 29
        }
      ]
    },
    {
      "cell_type": "code",
      "metadata": {
        "id": "1bIV8mAvEbMt",
        "colab_type": "code",
        "colab": {}
      },
      "source": [
        "combined_set.Reviews = combined_set.Reviews.replace(\"-\",np.nan)\n",
        "combined_set.Reviews = combined_set.Reviews.astype('float')"
      ],
      "execution_count": 30,
      "outputs": []
    },
    {
      "cell_type": "code",
      "metadata": {
        "id": "FISKEzKfEbMw",
        "colab_type": "code",
        "colab": {
          "base_uri": "https://localhost:8080/",
          "height": 34
        },
        "outputId": "e6b9ff3f-818e-41a6-bbb6-a5d5a66004e2"
      },
      "source": [
        "print(combined_set.shape)"
      ],
      "execution_count": 31,
      "outputs": [
        {
          "output_type": "stream",
          "text": [
            "(13868, 108)\n"
          ],
          "name": "stdout"
        }
      ]
    },
    {
      "cell_type": "code",
      "metadata": {
        "id": "tu2QGe62EbM4",
        "colab_type": "code",
        "colab": {
          "base_uri": "https://localhost:8080/",
          "height": 105
        },
        "outputId": "4ee7de72-a8ff-4276-cff8-c070e2e3c803"
      },
      "source": [
        "combined_set.info()"
      ],
      "execution_count": 33,
      "outputs": [
        {
          "output_type": "stream",
          "text": [
            "<class 'pandas.core.frame.DataFrame'>\n",
            "Int64Index: 13868 entries, 0 to 2773\n",
            "Columns: 108 entries, Restaurant to City\n",
            "dtypes: float64(4), int64(102), object(2)\n",
            "memory usage: 11.5+ MB\n"
          ],
          "name": "stdout"
        }
      ]
    },
    {
      "cell_type": "code",
      "metadata": {
        "id": "apFxO9zKEbM-",
        "colab_type": "code",
        "colab": {}
      },
      "source": [
        "combined_set.drop('Restaurant', axis=1, inplace=True)"
      ],
      "execution_count": 34,
      "outputs": []
    },
    {
      "cell_type": "code",
      "metadata": {
        "id": "xx3gMebVEbNE",
        "colab_type": "code",
        "colab": {
          "base_uri": "https://localhost:8080/",
          "height": 105
        },
        "outputId": "b1865e27-f2c8-4fcb-aa8f-967881d88779"
      },
      "source": [
        "combined_set.info()"
      ],
      "execution_count": 35,
      "outputs": [
        {
          "output_type": "stream",
          "text": [
            "<class 'pandas.core.frame.DataFrame'>\n",
            "Int64Index: 13868 entries, 0 to 2773\n",
            "Columns: 107 entries, Average_Cost to City\n",
            "dtypes: float64(4), int64(102), object(1)\n",
            "memory usage: 11.4+ MB\n"
          ],
          "name": "stdout"
        }
      ]
    },
    {
      "cell_type": "code",
      "metadata": {
        "id": "FWAp5ryEEbNH",
        "colab_type": "code",
        "colab": {}
      },
      "source": [
        "combined_set=pd.get_dummies(data=combined_set)"
      ],
      "execution_count": 36,
      "outputs": []
    },
    {
      "cell_type": "code",
      "metadata": {
        "id": "6ZM_bWbEEbNL",
        "colab_type": "code",
        "colab": {}
      },
      "source": [
        "df_train = combined_set[:train_nomissing.shape[0]] # Up to the last initial training set row\n",
        "df_test = combined_set[train_nomissing.shape[0]:] # Past the last initial training set row"
      ],
      "execution_count": 37,
      "outputs": []
    },
    {
      "cell_type": "code",
      "metadata": {
        "id": "sx3F9KfiEbNO",
        "colab_type": "code",
        "colab": {}
      },
      "source": [
        "from sklearn.preprocessing import StandardScaler\n",
        "sc = StandardScaler()\n",
        "df_train_arr_scld = sc.fit_transform(df_train)\n",
        "df_train_scld=pd.DataFrame(df_train_arr_scld,columns=df_train.columns)\n",
        "df_test_arr_scld = sc.transform(df_test)\n",
        "df_test_scld=pd.DataFrame(df_test_arr_scld,columns=df_test.columns)"
      ],
      "execution_count": 38,
      "outputs": []
    },
    {
      "cell_type": "code",
      "metadata": {
        "id": "a1mT3XybEbNY",
        "colab_type": "code",
        "colab": {}
      },
      "source": [
        "train = df_train_scld # Up to the last initial training set row\n",
        "test = df_test_scld # Past the last initial training set row\n",
        "\n",
        "#train = df_train # Up to the last initial training set row\n",
        "#test = df_test # Past the last initial training set row\n",
        "labels = data_train['Delivery_Time']"
      ],
      "execution_count": 39,
      "outputs": []
    },
    {
      "cell_type": "code",
      "metadata": {
        "id": "k6i791SpEbNc",
        "colab_type": "code",
        "colab": {
          "base_uri": "https://localhost:8080/",
          "height": 34
        },
        "outputId": "9bedb0b5-c963-4356-fe71-710591f8df3e"
      },
      "source": [
        "train.shape"
      ],
      "execution_count": 40,
      "outputs": [
        {
          "output_type": "execute_result",
          "data": {
            "text/plain": [
              "(11094, 118)"
            ]
          },
          "metadata": {
            "tags": []
          },
          "execution_count": 40
        }
      ]
    },
    {
      "cell_type": "code",
      "metadata": {
        "id": "D_Ojjj12EbNg",
        "colab_type": "code",
        "colab": {
          "base_uri": "https://localhost:8080/",
          "height": 34
        },
        "outputId": "5c329939-1cc1-4e58-f6f8-58f73688e7e1"
      },
      "source": [
        "test.shape"
      ],
      "execution_count": 41,
      "outputs": [
        {
          "output_type": "execute_result",
          "data": {
            "text/plain": [
              "(2774, 118)"
            ]
          },
          "metadata": {
            "tags": []
          },
          "execution_count": 41
        }
      ]
    },
    {
      "cell_type": "code",
      "metadata": {
        "id": "A7Xxrv62EbNk",
        "colab_type": "code",
        "colab": {
          "base_uri": "https://localhost:8080/",
          "height": 244
        },
        "outputId": "d3fc0f04-b3f5-4bb0-bca0-181e3b335ff4"
      },
      "source": [
        "train.head()"
      ],
      "execution_count": 42,
      "outputs": [
        {
          "output_type": "execute_result",
          "data": {
            "text/html": [
              "<div>\n",
              "<style scoped>\n",
              "    .dataframe tbody tr th:only-of-type {\n",
              "        vertical-align: middle;\n",
              "    }\n",
              "\n",
              "    .dataframe tbody tr th {\n",
              "        vertical-align: top;\n",
              "    }\n",
              "\n",
              "    .dataframe thead th {\n",
              "        text-align: right;\n",
              "    }\n",
              "</style>\n",
              "<table border=\"1\" class=\"dataframe\">\n",
              "  <thead>\n",
              "    <tr style=\"text-align: right;\">\n",
              "      <th></th>\n",
              "      <th>Average_Cost</th>\n",
              "      <th>Minimum_Order</th>\n",
              "      <th>Rating</th>\n",
              "      <th>Votes</th>\n",
              "      <th>Reviews</th>\n",
              "      <th>fastfood</th>\n",
              "      <th>rolls</th>\n",
              "      <th>burger</th>\n",
              "      <th>salad</th>\n",
              "      <th>wraps</th>\n",
              "      <th>icecream</th>\n",
              "      <th>desserts</th>\n",
              "      <th>italian</th>\n",
              "      <th>streetfood</th>\n",
              "      <th>mughlai</th>\n",
              "      <th>northindian</th>\n",
              "      <th>chinese</th>\n",
              "      <th>cafe</th>\n",
              "      <th>beverages</th>\n",
              "      <th>southindian</th>\n",
              "      <th>thai</th>\n",
              "      <th>asian</th>\n",
              "      <th>mithai</th>\n",
              "      <th>momos</th>\n",
              "      <th>indonesian</th>\n",
              "      <th>biryani</th>\n",
              "      <th>kerala</th>\n",
              "      <th>bihari</th>\n",
              "      <th>mexican</th>\n",
              "      <th>japanese</th>\n",
              "      <th>bakery</th>\n",
              "      <th>burmese</th>\n",
              "      <th>bubbletea</th>\n",
              "      <th>tea</th>\n",
              "      <th>pizza</th>\n",
              "      <th>lucknowi</th>\n",
              "      <th>mangalorean</th>\n",
              "      <th>european</th>\n",
              "      <th>continental</th>\n",
              "      <th>sandwich</th>\n",
              "      <th>...</th>\n",
              "      <th>rajasthani</th>\n",
              "      <th>poké</th>\n",
              "      <th>roastchicken</th>\n",
              "      <th>coffee</th>\n",
              "      <th>brazilian</th>\n",
              "      <th>belgian</th>\n",
              "      <th>naga</th>\n",
              "      <th>korean</th>\n",
              "      <th>modernindian</th>\n",
              "      <th>awadhi</th>\n",
              "      <th>kashmiri</th>\n",
              "      <th>french</th>\n",
              "      <th>portuguese</th>\n",
              "      <th>charcoalchicken</th>\n",
              "      <th>frozenyogurt</th>\n",
              "      <th>bangladeshi</th>\n",
              "      <th>malwani</th>\n",
              "      <th>iranian</th>\n",
              "      <th>nepalese</th>\n",
              "      <th>indian</th>\n",
              "      <th>tex-mex</th>\n",
              "      <th>hotdogs</th>\n",
              "      <th>southamerican</th>\n",
              "      <th>middleeastern</th>\n",
              "      <th>african</th>\n",
              "      <th>turkish</th>\n",
              "      <th>israeli</th>\n",
              "      <th>greek</th>\n",
              "      <th>City_bangalore</th>\n",
              "      <th>City_begumpet</th>\n",
              "      <th>City_delhi</th>\n",
              "      <th>City_gurgaon</th>\n",
              "      <th>City_hyderabad</th>\n",
              "      <th>City_kolkata</th>\n",
              "      <th>City_majestic</th>\n",
              "      <th>City_marathalli</th>\n",
              "      <th>City_mumbai</th>\n",
              "      <th>City_noida</th>\n",
              "      <th>City_pune</th>\n",
              "      <th>City_timarpur</th>\n",
              "    </tr>\n",
              "  </thead>\n",
              "  <tbody>\n",
              "    <tr>\n",
              "      <th>0</th>\n",
              "      <td>-0.020865</td>\n",
              "      <td>-0.180293</td>\n",
              "      <td>-0.273847</td>\n",
              "      <td>-0.418951</td>\n",
              "      <td>-0.371481</td>\n",
              "      <td>1.617417</td>\n",
              "      <td>4.637137</td>\n",
              "      <td>5.711233</td>\n",
              "      <td>6.842439</td>\n",
              "      <td>11.808064</td>\n",
              "      <td>-0.189863</td>\n",
              "      <td>-0.355540</td>\n",
              "      <td>-0.238270</td>\n",
              "      <td>-0.273100</td>\n",
              "      <td>-0.295151</td>\n",
              "      <td>-0.872967</td>\n",
              "      <td>-0.673086</td>\n",
              "      <td>-0.211730</td>\n",
              "      <td>-0.385597</td>\n",
              "      <td>-0.34761</td>\n",
              "      <td>-0.21173</td>\n",
              "      <td>-0.139912</td>\n",
              "      <td>-0.167283</td>\n",
              "      <td>-0.170669</td>\n",
              "      <td>-0.016447</td>\n",
              "      <td>-0.303375</td>\n",
              "      <td>-0.076769</td>\n",
              "      <td>-0.031504</td>\n",
              "      <td>-0.104129</td>\n",
              "      <td>-0.076769</td>\n",
              "      <td>-0.259116</td>\n",
              "      <td>-0.030037</td>\n",
              "      <td>-0.023262</td>\n",
              "      <td>-0.088388</td>\n",
              "      <td>-0.216564</td>\n",
              "      <td>-0.032906</td>\n",
              "      <td>-0.043549</td>\n",
              "      <td>-0.078532</td>\n",
              "      <td>-0.230784</td>\n",
              "      <td>-0.155219</td>\n",
              "      <td>...</td>\n",
              "      <td>-0.050302</td>\n",
              "      <td>-0.026863</td>\n",
              "      <td>-0.018992</td>\n",
              "      <td>-0.060155</td>\n",
              "      <td>-0.021234</td>\n",
              "      <td>-0.013428</td>\n",
              "      <td>-0.023262</td>\n",
              "      <td>-0.038004</td>\n",
              "      <td>-0.042497</td>\n",
              "      <td>-0.034252</td>\n",
              "      <td>-0.026863</td>\n",
              "      <td>-0.021234</td>\n",
              "      <td>-0.016447</td>\n",
              "      <td>-0.016447</td>\n",
              "      <td>-0.018992</td>\n",
              "      <td>-0.018992</td>\n",
              "      <td>-0.038004</td>\n",
              "      <td>-0.028494</td>\n",
              "      <td>-0.016447</td>\n",
              "      <td>-0.965617</td>\n",
              "      <td>-0.018992</td>\n",
              "      <td>-0.016447</td>\n",
              "      <td>-0.016447</td>\n",
              "      <td>-0.018992</td>\n",
              "      <td>-0.009495</td>\n",
              "      <td>-0.021234</td>\n",
              "      <td>-0.013428</td>\n",
              "      <td>-0.009495</td>\n",
              "      <td>-0.384053</td>\n",
              "      <td>-0.085761</td>\n",
              "      <td>-0.405109</td>\n",
              "      <td>-0.269846</td>\n",
              "      <td>-0.164992</td>\n",
              "      <td>-0.227516</td>\n",
              "      <td>-0.176184</td>\n",
              "      <td>-0.184706</td>\n",
              "      <td>-0.352962</td>\n",
              "      <td>-0.481219</td>\n",
              "      <td>2.170191</td>\n",
              "      <td>-0.210799</td>\n",
              "    </tr>\n",
              "    <tr>\n",
              "      <th>1</th>\n",
              "      <td>-0.791083</td>\n",
              "      <td>-0.180293</td>\n",
              "      <td>-0.273847</td>\n",
              "      <td>-0.420752</td>\n",
              "      <td>-0.371481</td>\n",
              "      <td>-0.618270</td>\n",
              "      <td>-0.215650</td>\n",
              "      <td>-0.175094</td>\n",
              "      <td>-0.146147</td>\n",
              "      <td>-0.084688</td>\n",
              "      <td>5.266966</td>\n",
              "      <td>2.812622</td>\n",
              "      <td>-0.238270</td>\n",
              "      <td>-0.273100</td>\n",
              "      <td>-0.295151</td>\n",
              "      <td>-0.872967</td>\n",
              "      <td>-0.673086</td>\n",
              "      <td>-0.211730</td>\n",
              "      <td>-0.385597</td>\n",
              "      <td>-0.34761</td>\n",
              "      <td>-0.21173</td>\n",
              "      <td>-0.139912</td>\n",
              "      <td>-0.167283</td>\n",
              "      <td>-0.170669</td>\n",
              "      <td>-0.016447</td>\n",
              "      <td>-0.303375</td>\n",
              "      <td>-0.076769</td>\n",
              "      <td>-0.031504</td>\n",
              "      <td>-0.104129</td>\n",
              "      <td>-0.076769</td>\n",
              "      <td>-0.259116</td>\n",
              "      <td>-0.030037</td>\n",
              "      <td>-0.023262</td>\n",
              "      <td>-0.088388</td>\n",
              "      <td>-0.216564</td>\n",
              "      <td>-0.032906</td>\n",
              "      <td>-0.043549</td>\n",
              "      <td>-0.078532</td>\n",
              "      <td>-0.230784</td>\n",
              "      <td>-0.155219</td>\n",
              "      <td>...</td>\n",
              "      <td>-0.050302</td>\n",
              "      <td>-0.026863</td>\n",
              "      <td>-0.018992</td>\n",
              "      <td>-0.060155</td>\n",
              "      <td>-0.021234</td>\n",
              "      <td>-0.013428</td>\n",
              "      <td>-0.023262</td>\n",
              "      <td>-0.038004</td>\n",
              "      <td>-0.042497</td>\n",
              "      <td>-0.034252</td>\n",
              "      <td>-0.026863</td>\n",
              "      <td>-0.021234</td>\n",
              "      <td>-0.016447</td>\n",
              "      <td>-0.016447</td>\n",
              "      <td>-0.018992</td>\n",
              "      <td>-0.018992</td>\n",
              "      <td>-0.038004</td>\n",
              "      <td>-0.028494</td>\n",
              "      <td>-0.016447</td>\n",
              "      <td>-0.965617</td>\n",
              "      <td>-0.018992</td>\n",
              "      <td>-0.016447</td>\n",
              "      <td>-0.016447</td>\n",
              "      <td>-0.018992</td>\n",
              "      <td>-0.009495</td>\n",
              "      <td>-0.021234</td>\n",
              "      <td>-0.013428</td>\n",
              "      <td>-0.009495</td>\n",
              "      <td>-0.384053</td>\n",
              "      <td>-0.085761</td>\n",
              "      <td>-0.405109</td>\n",
              "      <td>-0.269846</td>\n",
              "      <td>-0.164992</td>\n",
              "      <td>-0.227516</td>\n",
              "      <td>-0.176184</td>\n",
              "      <td>5.414007</td>\n",
              "      <td>-0.352962</td>\n",
              "      <td>-0.481219</td>\n",
              "      <td>-0.460789</td>\n",
              "      <td>-0.210799</td>\n",
              "    </tr>\n",
              "    <tr>\n",
              "      <th>2</th>\n",
              "      <td>-0.405974</td>\n",
              "      <td>-0.180293</td>\n",
              "      <td>-0.032486</td>\n",
              "      <td>-0.262212</td>\n",
              "      <td>-0.290486</td>\n",
              "      <td>1.617417</td>\n",
              "      <td>-0.215650</td>\n",
              "      <td>-0.175094</td>\n",
              "      <td>-0.146147</td>\n",
              "      <td>-0.084688</td>\n",
              "      <td>-0.189863</td>\n",
              "      <td>-0.355540</td>\n",
              "      <td>4.196915</td>\n",
              "      <td>3.661665</td>\n",
              "      <td>-0.295151</td>\n",
              "      <td>-0.872967</td>\n",
              "      <td>-0.673086</td>\n",
              "      <td>-0.211730</td>\n",
              "      <td>-0.385597</td>\n",
              "      <td>-0.34761</td>\n",
              "      <td>-0.21173</td>\n",
              "      <td>-0.139912</td>\n",
              "      <td>-0.167283</td>\n",
              "      <td>-0.170669</td>\n",
              "      <td>-0.016447</td>\n",
              "      <td>-0.303375</td>\n",
              "      <td>-0.076769</td>\n",
              "      <td>-0.031504</td>\n",
              "      <td>-0.104129</td>\n",
              "      <td>-0.076769</td>\n",
              "      <td>-0.259116</td>\n",
              "      <td>-0.030037</td>\n",
              "      <td>-0.023262</td>\n",
              "      <td>-0.088388</td>\n",
              "      <td>-0.216564</td>\n",
              "      <td>-0.032906</td>\n",
              "      <td>-0.043549</td>\n",
              "      <td>-0.078532</td>\n",
              "      <td>-0.230784</td>\n",
              "      <td>-0.155219</td>\n",
              "      <td>...</td>\n",
              "      <td>-0.050302</td>\n",
              "      <td>-0.026863</td>\n",
              "      <td>-0.018992</td>\n",
              "      <td>-0.060155</td>\n",
              "      <td>-0.021234</td>\n",
              "      <td>-0.013428</td>\n",
              "      <td>-0.023262</td>\n",
              "      <td>-0.038004</td>\n",
              "      <td>-0.042497</td>\n",
              "      <td>-0.034252</td>\n",
              "      <td>-0.026863</td>\n",
              "      <td>-0.021234</td>\n",
              "      <td>-0.016447</td>\n",
              "      <td>-0.016447</td>\n",
              "      <td>-0.018992</td>\n",
              "      <td>-0.018992</td>\n",
              "      <td>-0.038004</td>\n",
              "      <td>-0.028494</td>\n",
              "      <td>-0.016447</td>\n",
              "      <td>-0.965617</td>\n",
              "      <td>-0.018992</td>\n",
              "      <td>-0.016447</td>\n",
              "      <td>-0.016447</td>\n",
              "      <td>-0.018992</td>\n",
              "      <td>-0.009495</td>\n",
              "      <td>-0.021234</td>\n",
              "      <td>-0.013428</td>\n",
              "      <td>-0.009495</td>\n",
              "      <td>-0.384053</td>\n",
              "      <td>-0.085761</td>\n",
              "      <td>-0.405109</td>\n",
              "      <td>-0.269846</td>\n",
              "      <td>-0.164992</td>\n",
              "      <td>-0.227516</td>\n",
              "      <td>-0.176184</td>\n",
              "      <td>-0.184706</td>\n",
              "      <td>2.833170</td>\n",
              "      <td>-0.481219</td>\n",
              "      <td>-0.460789</td>\n",
              "      <td>-0.210799</td>\n",
              "    </tr>\n",
              "    <tr>\n",
              "      <th>3</th>\n",
              "      <td>0.364245</td>\n",
              "      <td>2.461158</td>\n",
              "      <td>0.208875</td>\n",
              "      <td>-0.123489</td>\n",
              "      <td>-0.087998</td>\n",
              "      <td>-0.618270</td>\n",
              "      <td>-0.215650</td>\n",
              "      <td>-0.175094</td>\n",
              "      <td>-0.146147</td>\n",
              "      <td>-0.084688</td>\n",
              "      <td>-0.189863</td>\n",
              "      <td>-0.355540</td>\n",
              "      <td>-0.238270</td>\n",
              "      <td>-0.273100</td>\n",
              "      <td>3.388095</td>\n",
              "      <td>1.145519</td>\n",
              "      <td>1.485694</td>\n",
              "      <td>-0.211730</td>\n",
              "      <td>-0.385597</td>\n",
              "      <td>-0.34761</td>\n",
              "      <td>-0.21173</td>\n",
              "      <td>-0.139912</td>\n",
              "      <td>-0.167283</td>\n",
              "      <td>-0.170669</td>\n",
              "      <td>-0.016447</td>\n",
              "      <td>-0.303375</td>\n",
              "      <td>-0.076769</td>\n",
              "      <td>-0.031504</td>\n",
              "      <td>-0.104129</td>\n",
              "      <td>-0.076769</td>\n",
              "      <td>-0.259116</td>\n",
              "      <td>-0.030037</td>\n",
              "      <td>-0.023262</td>\n",
              "      <td>-0.088388</td>\n",
              "      <td>-0.216564</td>\n",
              "      <td>-0.032906</td>\n",
              "      <td>-0.043549</td>\n",
              "      <td>-0.078532</td>\n",
              "      <td>-0.230784</td>\n",
              "      <td>-0.155219</td>\n",
              "      <td>...</td>\n",
              "      <td>-0.050302</td>\n",
              "      <td>-0.026863</td>\n",
              "      <td>-0.018992</td>\n",
              "      <td>-0.060155</td>\n",
              "      <td>-0.021234</td>\n",
              "      <td>-0.013428</td>\n",
              "      <td>-0.023262</td>\n",
              "      <td>-0.038004</td>\n",
              "      <td>-0.042497</td>\n",
              "      <td>-0.034252</td>\n",
              "      <td>-0.026863</td>\n",
              "      <td>-0.021234</td>\n",
              "      <td>-0.016447</td>\n",
              "      <td>-0.016447</td>\n",
              "      <td>-0.018992</td>\n",
              "      <td>-0.018992</td>\n",
              "      <td>-0.038004</td>\n",
              "      <td>-0.028494</td>\n",
              "      <td>-0.016447</td>\n",
              "      <td>1.035607</td>\n",
              "      <td>-0.018992</td>\n",
              "      <td>-0.016447</td>\n",
              "      <td>-0.016447</td>\n",
              "      <td>-0.018992</td>\n",
              "      <td>-0.009495</td>\n",
              "      <td>-0.021234</td>\n",
              "      <td>-0.013428</td>\n",
              "      <td>-0.009495</td>\n",
              "      <td>-0.384053</td>\n",
              "      <td>-0.085761</td>\n",
              "      <td>-0.405109</td>\n",
              "      <td>-0.269846</td>\n",
              "      <td>-0.164992</td>\n",
              "      <td>-0.227516</td>\n",
              "      <td>-0.176184</td>\n",
              "      <td>-0.184706</td>\n",
              "      <td>-0.352962</td>\n",
              "      <td>2.078055</td>\n",
              "      <td>-0.460789</td>\n",
              "      <td>-0.210799</td>\n",
              "    </tr>\n",
              "    <tr>\n",
              "      <th>4</th>\n",
              "      <td>-0.020865</td>\n",
              "      <td>2.461158</td>\n",
              "      <td>-0.997930</td>\n",
              "      <td>0.498061</td>\n",
              "      <td>0.348130</td>\n",
              "      <td>-0.618270</td>\n",
              "      <td>-0.215650</td>\n",
              "      <td>-0.175094</td>\n",
              "      <td>-0.146147</td>\n",
              "      <td>-0.084688</td>\n",
              "      <td>-0.189863</td>\n",
              "      <td>-0.355540</td>\n",
              "      <td>-0.238270</td>\n",
              "      <td>-0.273100</td>\n",
              "      <td>-0.295151</td>\n",
              "      <td>-0.872967</td>\n",
              "      <td>-0.673086</td>\n",
              "      <td>4.722999</td>\n",
              "      <td>2.593381</td>\n",
              "      <td>-0.34761</td>\n",
              "      <td>-0.21173</td>\n",
              "      <td>-0.139912</td>\n",
              "      <td>-0.167283</td>\n",
              "      <td>-0.170669</td>\n",
              "      <td>-0.016447</td>\n",
              "      <td>-0.303375</td>\n",
              "      <td>-0.076769</td>\n",
              "      <td>-0.031504</td>\n",
              "      <td>-0.104129</td>\n",
              "      <td>-0.076769</td>\n",
              "      <td>-0.259116</td>\n",
              "      <td>-0.030037</td>\n",
              "      <td>-0.023262</td>\n",
              "      <td>-0.088388</td>\n",
              "      <td>-0.216564</td>\n",
              "      <td>-0.032906</td>\n",
              "      <td>-0.043549</td>\n",
              "      <td>-0.078532</td>\n",
              "      <td>-0.230784</td>\n",
              "      <td>-0.155219</td>\n",
              "      <td>...</td>\n",
              "      <td>-0.050302</td>\n",
              "      <td>-0.026863</td>\n",
              "      <td>-0.018992</td>\n",
              "      <td>-0.060155</td>\n",
              "      <td>-0.021234</td>\n",
              "      <td>-0.013428</td>\n",
              "      <td>-0.023262</td>\n",
              "      <td>-0.038004</td>\n",
              "      <td>-0.042497</td>\n",
              "      <td>-0.034252</td>\n",
              "      <td>-0.026863</td>\n",
              "      <td>-0.021234</td>\n",
              "      <td>-0.016447</td>\n",
              "      <td>-0.016447</td>\n",
              "      <td>-0.018992</td>\n",
              "      <td>-0.018992</td>\n",
              "      <td>-0.038004</td>\n",
              "      <td>-0.028494</td>\n",
              "      <td>-0.016447</td>\n",
              "      <td>-0.965617</td>\n",
              "      <td>-0.018992</td>\n",
              "      <td>-0.016447</td>\n",
              "      <td>-0.016447</td>\n",
              "      <td>-0.018992</td>\n",
              "      <td>-0.009495</td>\n",
              "      <td>-0.021234</td>\n",
              "      <td>-0.013428</td>\n",
              "      <td>-0.009495</td>\n",
              "      <td>2.603806</td>\n",
              "      <td>-0.085761</td>\n",
              "      <td>-0.405109</td>\n",
              "      <td>-0.269846</td>\n",
              "      <td>-0.164992</td>\n",
              "      <td>-0.227516</td>\n",
              "      <td>-0.176184</td>\n",
              "      <td>-0.184706</td>\n",
              "      <td>-0.352962</td>\n",
              "      <td>-0.481219</td>\n",
              "      <td>-0.460789</td>\n",
              "      <td>-0.210799</td>\n",
              "    </tr>\n",
              "  </tbody>\n",
              "</table>\n",
              "<p>5 rows × 118 columns</p>\n",
              "</div>"
            ],
            "text/plain": [
              "   Average_Cost  Minimum_Order    Rating  ...  City_noida  City_pune  City_timarpur\n",
              "0     -0.020865      -0.180293 -0.273847  ...   -0.481219   2.170191      -0.210799\n",
              "1     -0.791083      -0.180293 -0.273847  ...   -0.481219  -0.460789      -0.210799\n",
              "2     -0.405974      -0.180293 -0.032486  ...   -0.481219  -0.460789      -0.210799\n",
              "3      0.364245       2.461158  0.208875  ...    2.078055  -0.460789      -0.210799\n",
              "4     -0.020865       2.461158 -0.997930  ...   -0.481219  -0.460789      -0.210799\n",
              "\n",
              "[5 rows x 118 columns]"
            ]
          },
          "metadata": {
            "tags": []
          },
          "execution_count": 42
        }
      ]
    },
    {
      "cell_type": "code",
      "metadata": {
        "id": "F5piK9ioEbNo",
        "colab_type": "code",
        "colab": {
          "base_uri": "https://localhost:8080/",
          "height": 244
        },
        "outputId": "35ac5c29-10fc-4693-f36d-06253adf3ace"
      },
      "source": [
        "test.head()"
      ],
      "execution_count": 43,
      "outputs": [
        {
          "output_type": "execute_result",
          "data": {
            "text/html": [
              "<div>\n",
              "<style scoped>\n",
              "    .dataframe tbody tr th:only-of-type {\n",
              "        vertical-align: middle;\n",
              "    }\n",
              "\n",
              "    .dataframe tbody tr th {\n",
              "        vertical-align: top;\n",
              "    }\n",
              "\n",
              "    .dataframe thead th {\n",
              "        text-align: right;\n",
              "    }\n",
              "</style>\n",
              "<table border=\"1\" class=\"dataframe\">\n",
              "  <thead>\n",
              "    <tr style=\"text-align: right;\">\n",
              "      <th></th>\n",
              "      <th>Average_Cost</th>\n",
              "      <th>Minimum_Order</th>\n",
              "      <th>Rating</th>\n",
              "      <th>Votes</th>\n",
              "      <th>Reviews</th>\n",
              "      <th>fastfood</th>\n",
              "      <th>rolls</th>\n",
              "      <th>burger</th>\n",
              "      <th>salad</th>\n",
              "      <th>wraps</th>\n",
              "      <th>icecream</th>\n",
              "      <th>desserts</th>\n",
              "      <th>italian</th>\n",
              "      <th>streetfood</th>\n",
              "      <th>mughlai</th>\n",
              "      <th>northindian</th>\n",
              "      <th>chinese</th>\n",
              "      <th>cafe</th>\n",
              "      <th>beverages</th>\n",
              "      <th>southindian</th>\n",
              "      <th>thai</th>\n",
              "      <th>asian</th>\n",
              "      <th>mithai</th>\n",
              "      <th>momos</th>\n",
              "      <th>indonesian</th>\n",
              "      <th>biryani</th>\n",
              "      <th>kerala</th>\n",
              "      <th>bihari</th>\n",
              "      <th>mexican</th>\n",
              "      <th>japanese</th>\n",
              "      <th>bakery</th>\n",
              "      <th>burmese</th>\n",
              "      <th>bubbletea</th>\n",
              "      <th>tea</th>\n",
              "      <th>pizza</th>\n",
              "      <th>lucknowi</th>\n",
              "      <th>mangalorean</th>\n",
              "      <th>european</th>\n",
              "      <th>continental</th>\n",
              "      <th>sandwich</th>\n",
              "      <th>...</th>\n",
              "      <th>rajasthani</th>\n",
              "      <th>poké</th>\n",
              "      <th>roastchicken</th>\n",
              "      <th>coffee</th>\n",
              "      <th>brazilian</th>\n",
              "      <th>belgian</th>\n",
              "      <th>naga</th>\n",
              "      <th>korean</th>\n",
              "      <th>modernindian</th>\n",
              "      <th>awadhi</th>\n",
              "      <th>kashmiri</th>\n",
              "      <th>french</th>\n",
              "      <th>portuguese</th>\n",
              "      <th>charcoalchicken</th>\n",
              "      <th>frozenyogurt</th>\n",
              "      <th>bangladeshi</th>\n",
              "      <th>malwani</th>\n",
              "      <th>iranian</th>\n",
              "      <th>nepalese</th>\n",
              "      <th>indian</th>\n",
              "      <th>tex-mex</th>\n",
              "      <th>hotdogs</th>\n",
              "      <th>southamerican</th>\n",
              "      <th>middleeastern</th>\n",
              "      <th>african</th>\n",
              "      <th>turkish</th>\n",
              "      <th>israeli</th>\n",
              "      <th>greek</th>\n",
              "      <th>City_bangalore</th>\n",
              "      <th>City_begumpet</th>\n",
              "      <th>City_delhi</th>\n",
              "      <th>City_gurgaon</th>\n",
              "      <th>City_hyderabad</th>\n",
              "      <th>City_kolkata</th>\n",
              "      <th>City_majestic</th>\n",
              "      <th>City_marathalli</th>\n",
              "      <th>City_mumbai</th>\n",
              "      <th>City_noida</th>\n",
              "      <th>City_pune</th>\n",
              "      <th>City_timarpur</th>\n",
              "    </tr>\n",
              "  </thead>\n",
              "  <tbody>\n",
              "    <tr>\n",
              "      <th>0</th>\n",
              "      <td>1.134463</td>\n",
              "      <td>-0.180293</td>\n",
              "      <td>1.415680</td>\n",
              "      <td>0.209806</td>\n",
              "      <td>0.316978</td>\n",
              "      <td>-0.618270</td>\n",
              "      <td>-0.21565</td>\n",
              "      <td>-0.175094</td>\n",
              "      <td>-0.146147</td>\n",
              "      <td>-0.084688</td>\n",
              "      <td>-0.189863</td>\n",
              "      <td>-0.35554</td>\n",
              "      <td>-0.23827</td>\n",
              "      <td>-0.2731</td>\n",
              "      <td>-0.295151</td>\n",
              "      <td>1.145519</td>\n",
              "      <td>1.485694</td>\n",
              "      <td>-0.21173</td>\n",
              "      <td>-0.385597</td>\n",
              "      <td>-0.34761</td>\n",
              "      <td>-0.211730</td>\n",
              "      <td>-0.139912</td>\n",
              "      <td>-0.167283</td>\n",
              "      <td>-0.170669</td>\n",
              "      <td>-0.016447</td>\n",
              "      <td>-0.303375</td>\n",
              "      <td>-0.076769</td>\n",
              "      <td>-0.031504</td>\n",
              "      <td>-0.104129</td>\n",
              "      <td>-0.076769</td>\n",
              "      <td>-0.259116</td>\n",
              "      <td>-0.030037</td>\n",
              "      <td>-0.023262</td>\n",
              "      <td>-0.088388</td>\n",
              "      <td>-0.216564</td>\n",
              "      <td>-0.032906</td>\n",
              "      <td>-0.043549</td>\n",
              "      <td>-0.078532</td>\n",
              "      <td>-0.230784</td>\n",
              "      <td>-0.155219</td>\n",
              "      <td>...</td>\n",
              "      <td>-0.050302</td>\n",
              "      <td>-0.026863</td>\n",
              "      <td>-0.018992</td>\n",
              "      <td>-0.060155</td>\n",
              "      <td>-0.021234</td>\n",
              "      <td>-0.013428</td>\n",
              "      <td>-0.023262</td>\n",
              "      <td>-0.038004</td>\n",
              "      <td>-0.042497</td>\n",
              "      <td>-0.034252</td>\n",
              "      <td>-0.026863</td>\n",
              "      <td>-0.021234</td>\n",
              "      <td>-0.016447</td>\n",
              "      <td>-0.016447</td>\n",
              "      <td>-0.018992</td>\n",
              "      <td>-0.018992</td>\n",
              "      <td>-0.038004</td>\n",
              "      <td>-0.028494</td>\n",
              "      <td>-0.016447</td>\n",
              "      <td>1.035607</td>\n",
              "      <td>-0.018992</td>\n",
              "      <td>-0.016447</td>\n",
              "      <td>-0.016447</td>\n",
              "      <td>-0.018992</td>\n",
              "      <td>-0.009495</td>\n",
              "      <td>-0.021234</td>\n",
              "      <td>-0.013428</td>\n",
              "      <td>-0.009495</td>\n",
              "      <td>2.603806</td>\n",
              "      <td>-0.085761</td>\n",
              "      <td>-0.405109</td>\n",
              "      <td>-0.269846</td>\n",
              "      <td>-0.164992</td>\n",
              "      <td>-0.227516</td>\n",
              "      <td>-0.176184</td>\n",
              "      <td>-0.184706</td>\n",
              "      <td>-0.352962</td>\n",
              "      <td>-0.481219</td>\n",
              "      <td>-0.460789</td>\n",
              "      <td>-0.210799</td>\n",
              "    </tr>\n",
              "    <tr>\n",
              "      <th>1</th>\n",
              "      <td>-0.791083</td>\n",
              "      <td>-0.180293</td>\n",
              "      <td>NaN</td>\n",
              "      <td>NaN</td>\n",
              "      <td>NaN</td>\n",
              "      <td>-0.618270</td>\n",
              "      <td>-0.21565</td>\n",
              "      <td>-0.175094</td>\n",
              "      <td>-0.146147</td>\n",
              "      <td>-0.084688</td>\n",
              "      <td>-0.189863</td>\n",
              "      <td>-0.35554</td>\n",
              "      <td>-0.23827</td>\n",
              "      <td>-0.2731</td>\n",
              "      <td>-0.295151</td>\n",
              "      <td>-0.872967</td>\n",
              "      <td>-0.673086</td>\n",
              "      <td>-0.21173</td>\n",
              "      <td>-0.385597</td>\n",
              "      <td>-0.34761</td>\n",
              "      <td>-0.211730</td>\n",
              "      <td>-0.139912</td>\n",
              "      <td>-0.167283</td>\n",
              "      <td>-0.170669</td>\n",
              "      <td>-0.016447</td>\n",
              "      <td>3.296246</td>\n",
              "      <td>-0.076769</td>\n",
              "      <td>-0.031504</td>\n",
              "      <td>-0.104129</td>\n",
              "      <td>-0.076769</td>\n",
              "      <td>-0.259116</td>\n",
              "      <td>-0.030037</td>\n",
              "      <td>-0.023262</td>\n",
              "      <td>-0.088388</td>\n",
              "      <td>-0.216564</td>\n",
              "      <td>-0.032906</td>\n",
              "      <td>-0.043549</td>\n",
              "      <td>-0.078532</td>\n",
              "      <td>-0.230784</td>\n",
              "      <td>-0.155219</td>\n",
              "      <td>...</td>\n",
              "      <td>-0.050302</td>\n",
              "      <td>-0.026863</td>\n",
              "      <td>-0.018992</td>\n",
              "      <td>-0.060155</td>\n",
              "      <td>-0.021234</td>\n",
              "      <td>-0.013428</td>\n",
              "      <td>-0.023262</td>\n",
              "      <td>-0.038004</td>\n",
              "      <td>-0.042497</td>\n",
              "      <td>-0.034252</td>\n",
              "      <td>-0.026863</td>\n",
              "      <td>-0.021234</td>\n",
              "      <td>-0.016447</td>\n",
              "      <td>-0.016447</td>\n",
              "      <td>-0.018992</td>\n",
              "      <td>-0.018992</td>\n",
              "      <td>-0.038004</td>\n",
              "      <td>-0.028494</td>\n",
              "      <td>-0.016447</td>\n",
              "      <td>-0.965617</td>\n",
              "      <td>-0.018992</td>\n",
              "      <td>-0.016447</td>\n",
              "      <td>-0.016447</td>\n",
              "      <td>-0.018992</td>\n",
              "      <td>-0.009495</td>\n",
              "      <td>-0.021234</td>\n",
              "      <td>-0.013428</td>\n",
              "      <td>-0.009495</td>\n",
              "      <td>2.603806</td>\n",
              "      <td>-0.085761</td>\n",
              "      <td>-0.405109</td>\n",
              "      <td>-0.269846</td>\n",
              "      <td>-0.164992</td>\n",
              "      <td>-0.227516</td>\n",
              "      <td>-0.176184</td>\n",
              "      <td>-0.184706</td>\n",
              "      <td>-0.352962</td>\n",
              "      <td>-0.481219</td>\n",
              "      <td>-0.460789</td>\n",
              "      <td>-0.210799</td>\n",
              "    </tr>\n",
              "    <tr>\n",
              "      <th>2</th>\n",
              "      <td>-0.791083</td>\n",
              "      <td>-0.180293</td>\n",
              "      <td>-0.032486</td>\n",
              "      <td>-0.375712</td>\n",
              "      <td>-0.334098</td>\n",
              "      <td>1.617417</td>\n",
              "      <td>-0.21565</td>\n",
              "      <td>-0.175094</td>\n",
              "      <td>-0.146147</td>\n",
              "      <td>-0.084688</td>\n",
              "      <td>-0.189863</td>\n",
              "      <td>-0.35554</td>\n",
              "      <td>-0.23827</td>\n",
              "      <td>-0.2731</td>\n",
              "      <td>-0.295151</td>\n",
              "      <td>-0.872967</td>\n",
              "      <td>-0.673086</td>\n",
              "      <td>-0.21173</td>\n",
              "      <td>-0.385597</td>\n",
              "      <td>-0.34761</td>\n",
              "      <td>-0.211730</td>\n",
              "      <td>-0.139912</td>\n",
              "      <td>-0.167283</td>\n",
              "      <td>-0.170669</td>\n",
              "      <td>-0.016447</td>\n",
              "      <td>-0.303375</td>\n",
              "      <td>-0.076769</td>\n",
              "      <td>-0.031504</td>\n",
              "      <td>-0.104129</td>\n",
              "      <td>-0.076769</td>\n",
              "      <td>-0.259116</td>\n",
              "      <td>-0.030037</td>\n",
              "      <td>-0.023262</td>\n",
              "      <td>-0.088388</td>\n",
              "      <td>-0.216564</td>\n",
              "      <td>-0.032906</td>\n",
              "      <td>-0.043549</td>\n",
              "      <td>-0.078532</td>\n",
              "      <td>-0.230784</td>\n",
              "      <td>-0.155219</td>\n",
              "      <td>...</td>\n",
              "      <td>-0.050302</td>\n",
              "      <td>-0.026863</td>\n",
              "      <td>-0.018992</td>\n",
              "      <td>-0.060155</td>\n",
              "      <td>-0.021234</td>\n",
              "      <td>-0.013428</td>\n",
              "      <td>-0.023262</td>\n",
              "      <td>-0.038004</td>\n",
              "      <td>-0.042497</td>\n",
              "      <td>-0.034252</td>\n",
              "      <td>-0.026863</td>\n",
              "      <td>-0.021234</td>\n",
              "      <td>-0.016447</td>\n",
              "      <td>-0.016447</td>\n",
              "      <td>-0.018992</td>\n",
              "      <td>-0.018992</td>\n",
              "      <td>-0.038004</td>\n",
              "      <td>-0.028494</td>\n",
              "      <td>-0.016447</td>\n",
              "      <td>-0.965617</td>\n",
              "      <td>-0.018992</td>\n",
              "      <td>-0.016447</td>\n",
              "      <td>-0.016447</td>\n",
              "      <td>-0.018992</td>\n",
              "      <td>-0.009495</td>\n",
              "      <td>-0.021234</td>\n",
              "      <td>-0.013428</td>\n",
              "      <td>-0.009495</td>\n",
              "      <td>-0.384053</td>\n",
              "      <td>-0.085761</td>\n",
              "      <td>-0.405109</td>\n",
              "      <td>-0.269846</td>\n",
              "      <td>-0.164992</td>\n",
              "      <td>-0.227516</td>\n",
              "      <td>-0.176184</td>\n",
              "      <td>-0.184706</td>\n",
              "      <td>-0.352962</td>\n",
              "      <td>2.078055</td>\n",
              "      <td>-0.460789</td>\n",
              "      <td>-0.210799</td>\n",
              "    </tr>\n",
              "    <tr>\n",
              "      <th>3</th>\n",
              "      <td>-0.020865</td>\n",
              "      <td>-0.180293</td>\n",
              "      <td>-0.032486</td>\n",
              "      <td>-0.321665</td>\n",
              "      <td>-0.281140</td>\n",
              "      <td>1.617417</td>\n",
              "      <td>-0.21565</td>\n",
              "      <td>-0.175094</td>\n",
              "      <td>-0.146147</td>\n",
              "      <td>-0.084688</td>\n",
              "      <td>-0.189863</td>\n",
              "      <td>-0.35554</td>\n",
              "      <td>-0.23827</td>\n",
              "      <td>-0.2731</td>\n",
              "      <td>-0.295151</td>\n",
              "      <td>1.145519</td>\n",
              "      <td>1.485694</td>\n",
              "      <td>-0.21173</td>\n",
              "      <td>-0.385597</td>\n",
              "      <td>2.87679</td>\n",
              "      <td>4.722999</td>\n",
              "      <td>-0.139912</td>\n",
              "      <td>5.977884</td>\n",
              "      <td>-0.170669</td>\n",
              "      <td>-0.016447</td>\n",
              "      <td>-0.303375</td>\n",
              "      <td>-0.076769</td>\n",
              "      <td>-0.031504</td>\n",
              "      <td>-0.104129</td>\n",
              "      <td>-0.076769</td>\n",
              "      <td>-0.259116</td>\n",
              "      <td>-0.030037</td>\n",
              "      <td>-0.023262</td>\n",
              "      <td>-0.088388</td>\n",
              "      <td>-0.216564</td>\n",
              "      <td>-0.032906</td>\n",
              "      <td>-0.043549</td>\n",
              "      <td>-0.078532</td>\n",
              "      <td>-0.230784</td>\n",
              "      <td>-0.155219</td>\n",
              "      <td>...</td>\n",
              "      <td>-0.050302</td>\n",
              "      <td>-0.026863</td>\n",
              "      <td>-0.018992</td>\n",
              "      <td>-0.060155</td>\n",
              "      <td>-0.021234</td>\n",
              "      <td>-0.013428</td>\n",
              "      <td>-0.023262</td>\n",
              "      <td>-0.038004</td>\n",
              "      <td>-0.042497</td>\n",
              "      <td>-0.034252</td>\n",
              "      <td>-0.026863</td>\n",
              "      <td>-0.021234</td>\n",
              "      <td>-0.016447</td>\n",
              "      <td>-0.016447</td>\n",
              "      <td>-0.018992</td>\n",
              "      <td>-0.018992</td>\n",
              "      <td>-0.038004</td>\n",
              "      <td>-0.028494</td>\n",
              "      <td>-0.016447</td>\n",
              "      <td>1.035607</td>\n",
              "      <td>-0.018992</td>\n",
              "      <td>-0.016447</td>\n",
              "      <td>-0.016447</td>\n",
              "      <td>-0.018992</td>\n",
              "      <td>-0.009495</td>\n",
              "      <td>-0.021234</td>\n",
              "      <td>-0.013428</td>\n",
              "      <td>-0.009495</td>\n",
              "      <td>-0.384053</td>\n",
              "      <td>-0.085761</td>\n",
              "      <td>2.468471</td>\n",
              "      <td>-0.269846</td>\n",
              "      <td>-0.164992</td>\n",
              "      <td>-0.227516</td>\n",
              "      <td>-0.176184</td>\n",
              "      <td>-0.184706</td>\n",
              "      <td>-0.352962</td>\n",
              "      <td>-0.481219</td>\n",
              "      <td>-0.460789</td>\n",
              "      <td>-0.210799</td>\n",
              "    </tr>\n",
              "    <tr>\n",
              "      <th>4</th>\n",
              "      <td>-0.405974</td>\n",
              "      <td>-0.180293</td>\n",
              "      <td>-1.722013</td>\n",
              "      <td>-0.372109</td>\n",
              "      <td>-0.340329</td>\n",
              "      <td>1.617417</td>\n",
              "      <td>-0.21565</td>\n",
              "      <td>-0.175094</td>\n",
              "      <td>-0.146147</td>\n",
              "      <td>-0.084688</td>\n",
              "      <td>-0.189863</td>\n",
              "      <td>-0.35554</td>\n",
              "      <td>-0.23827</td>\n",
              "      <td>-0.2731</td>\n",
              "      <td>-0.295151</td>\n",
              "      <td>-0.872967</td>\n",
              "      <td>1.485694</td>\n",
              "      <td>-0.21173</td>\n",
              "      <td>-0.385597</td>\n",
              "      <td>-0.34761</td>\n",
              "      <td>-0.211730</td>\n",
              "      <td>-0.139912</td>\n",
              "      <td>-0.167283</td>\n",
              "      <td>-0.170669</td>\n",
              "      <td>-0.016447</td>\n",
              "      <td>-0.303375</td>\n",
              "      <td>-0.076769</td>\n",
              "      <td>-0.031504</td>\n",
              "      <td>-0.104129</td>\n",
              "      <td>-0.076769</td>\n",
              "      <td>-0.259116</td>\n",
              "      <td>-0.030037</td>\n",
              "      <td>-0.023262</td>\n",
              "      <td>-0.088388</td>\n",
              "      <td>-0.216564</td>\n",
              "      <td>-0.032906</td>\n",
              "      <td>-0.043549</td>\n",
              "      <td>-0.078532</td>\n",
              "      <td>-0.230784</td>\n",
              "      <td>-0.155219</td>\n",
              "      <td>...</td>\n",
              "      <td>-0.050302</td>\n",
              "      <td>-0.026863</td>\n",
              "      <td>-0.018992</td>\n",
              "      <td>-0.060155</td>\n",
              "      <td>-0.021234</td>\n",
              "      <td>-0.013428</td>\n",
              "      <td>-0.023262</td>\n",
              "      <td>-0.038004</td>\n",
              "      <td>-0.042497</td>\n",
              "      <td>-0.034252</td>\n",
              "      <td>-0.026863</td>\n",
              "      <td>-0.021234</td>\n",
              "      <td>-0.016447</td>\n",
              "      <td>-0.016447</td>\n",
              "      <td>-0.018992</td>\n",
              "      <td>-0.018992</td>\n",
              "      <td>-0.038004</td>\n",
              "      <td>-0.028494</td>\n",
              "      <td>-0.016447</td>\n",
              "      <td>-0.965617</td>\n",
              "      <td>-0.018992</td>\n",
              "      <td>-0.016447</td>\n",
              "      <td>-0.016447</td>\n",
              "      <td>-0.018992</td>\n",
              "      <td>-0.009495</td>\n",
              "      <td>-0.021234</td>\n",
              "      <td>-0.013428</td>\n",
              "      <td>-0.009495</td>\n",
              "      <td>-0.384053</td>\n",
              "      <td>-0.085761</td>\n",
              "      <td>-0.405109</td>\n",
              "      <td>-0.269846</td>\n",
              "      <td>-0.164992</td>\n",
              "      <td>-0.227516</td>\n",
              "      <td>-0.176184</td>\n",
              "      <td>-0.184706</td>\n",
              "      <td>-0.352962</td>\n",
              "      <td>2.078055</td>\n",
              "      <td>-0.460789</td>\n",
              "      <td>-0.210799</td>\n",
              "    </tr>\n",
              "  </tbody>\n",
              "</table>\n",
              "<p>5 rows × 118 columns</p>\n",
              "</div>"
            ],
            "text/plain": [
              "   Average_Cost  Minimum_Order    Rating  ...  City_noida  City_pune  City_timarpur\n",
              "0      1.134463      -0.180293  1.415680  ...   -0.481219  -0.460789      -0.210799\n",
              "1     -0.791083      -0.180293       NaN  ...   -0.481219  -0.460789      -0.210799\n",
              "2     -0.791083      -0.180293 -0.032486  ...    2.078055  -0.460789      -0.210799\n",
              "3     -0.020865      -0.180293 -0.032486  ...   -0.481219  -0.460789      -0.210799\n",
              "4     -0.405974      -0.180293 -1.722013  ...    2.078055  -0.460789      -0.210799\n",
              "\n",
              "[5 rows x 118 columns]"
            ]
          },
          "metadata": {
            "tags": []
          },
          "execution_count": 43
        }
      ]
    },
    {
      "cell_type": "code",
      "metadata": {
        "id": "6H4GQtxhEbNs",
        "colab_type": "code",
        "colab": {
          "base_uri": "https://localhost:8080/",
          "height": 105
        },
        "outputId": "3ca4f1e5-0ab2-4655-a3ca-d38775a83809"
      },
      "source": [
        "data_train_target = data_train['Delivery_Time']\n",
        "data_train_final=train\n",
        "data_train_final.info()"
      ],
      "execution_count": 44,
      "outputs": [
        {
          "output_type": "stream",
          "text": [
            "<class 'pandas.core.frame.DataFrame'>\n",
            "RangeIndex: 11094 entries, 0 to 11093\n",
            "Columns: 118 entries, Average_Cost to City_timarpur\n",
            "dtypes: float64(118)\n",
            "memory usage: 10.0 MB\n"
          ],
          "name": "stdout"
        }
      ]
    },
    {
      "cell_type": "code",
      "metadata": {
        "id": "SWP7alhOEbNw",
        "colab_type": "code",
        "colab": {}
      },
      "source": [
        "X_train, X_test, y_train, y_test = train_test_split(data_train_final, data_train_target, test_size = 0.33,random_state=42)"
      ],
      "execution_count": 45,
      "outputs": []
    },
    {
      "cell_type": "code",
      "metadata": {
        "id": "qOoEafOZEbN1",
        "colab_type": "code",
        "colab": {
          "base_uri": "https://localhost:8080/",
          "height": 105
        },
        "outputId": "a463b2f8-e7fb-4fea-e431-d7ce03361126"
      },
      "source": [
        "X_train.info()"
      ],
      "execution_count": 46,
      "outputs": [
        {
          "output_type": "stream",
          "text": [
            "<class 'pandas.core.frame.DataFrame'>\n",
            "Int64Index: 7432 entries, 350 to 7270\n",
            "Columns: 118 entries, Average_Cost to City_timarpur\n",
            "dtypes: float64(118)\n",
            "memory usage: 6.7 MB\n"
          ],
          "name": "stdout"
        }
      ]
    },
    {
      "cell_type": "code",
      "metadata": {
        "id": "w3mrcs7JEbN6",
        "colab_type": "code",
        "colab": {
          "base_uri": "https://localhost:8080/",
          "height": 34
        },
        "outputId": "8d80b5b2-e20c-427e-f5fd-3f260dc613b5"
      },
      "source": [
        "X_train.shape, y_train.shape, X_test.shape, y_test.shape"
      ],
      "execution_count": 47,
      "outputs": [
        {
          "output_type": "execute_result",
          "data": {
            "text/plain": [
              "((7432, 118), (7432,), (3662, 118), (3662,))"
            ]
          },
          "metadata": {
            "tags": []
          },
          "execution_count": 47
        }
      ]
    },
    {
      "cell_type": "code",
      "metadata": {
        "id": "k_Ck93oYEbN_",
        "colab_type": "code",
        "colab": {
          "base_uri": "https://localhost:8080/",
          "height": 298
        },
        "outputId": "c99566c6-12a0-4573-cc24-e13df56d61de"
      },
      "source": [
        "import lightgbm as lgb\n",
        "\n",
        "lgb_fit_params={\"early_stopping_rounds\":50, \n",
        "            \"eval_metric\" : 'multi_logloss', \n",
        "            \"eval_set\" : [(X_test,y_test)],\n",
        "            'eval_names': ['valid'],\n",
        "            'verbose':100\n",
        "           }\n",
        "\n",
        "lgb_params = {'boosting_type': 'gbdt',\n",
        " 'objective': 'multiclass',\n",
        " 'metric': 'multi_logloss',\n",
        " 'verbose': 0,\n",
        " 'bagging_fraction': 0.8,\n",
        " 'bagging_freq': 1,\n",
        " 'num_class': 7,\n",
        " 'feature_fraction': 0.8,\n",
        " 'lambda_l1': 0.01,\n",
        " 'lambda_l2': 0.01,\n",
        " 'learning_rate': 0.1,\n",
        " 'max_bin': 255,\n",
        " 'max_depth': -1,\n",
        " 'min_data_in_bin': 1,\n",
        " 'min_data_in_leaf': 1,\n",
        " 'num_leaves': 31}\n",
        "lgb_params"
      ],
      "execution_count": 48,
      "outputs": [
        {
          "output_type": "execute_result",
          "data": {
            "text/plain": [
              "{'bagging_fraction': 0.8,\n",
              " 'bagging_freq': 1,\n",
              " 'boosting_type': 'gbdt',\n",
              " 'feature_fraction': 0.8,\n",
              " 'lambda_l1': 0.01,\n",
              " 'lambda_l2': 0.01,\n",
              " 'learning_rate': 0.1,\n",
              " 'max_bin': 255,\n",
              " 'max_depth': -1,\n",
              " 'metric': 'multi_logloss',\n",
              " 'min_data_in_bin': 1,\n",
              " 'min_data_in_leaf': 1,\n",
              " 'num_class': 7,\n",
              " 'num_leaves': 31,\n",
              " 'objective': 'multiclass',\n",
              " 'verbose': 0}"
            ]
          },
          "metadata": {
            "tags": []
          },
          "execution_count": 48
        }
      ]
    },
    {
      "cell_type": "code",
      "metadata": {
        "id": "JRF4Tg0EEbOK",
        "colab_type": "code",
        "colab": {
          "base_uri": "https://localhost:8080/",
          "height": 140
        },
        "outputId": "6233fcf2-7dd9-4650-a98e-7efdb99eaaf6"
      },
      "source": [
        "clf_lgb = lgb.LGBMClassifier(n_estimators=10000, **lgb_params, random_state=123456789, n_jobs=-1)\n",
        "clf_lgb.fit(X_train, y_train, **lgb_fit_params)\n",
        "clf_lgb.best_iteration_"
      ],
      "execution_count": 49,
      "outputs": [
        {
          "output_type": "stream",
          "text": [
            "Training until validation scores don't improve for 50 rounds.\n",
            "[100]\tvalid's multi_logloss: 0.602986\n",
            "[200]\tvalid's multi_logloss: 0.590803\n",
            "[300]\tvalid's multi_logloss: 0.590626\n",
            "Early stopping, best iteration is:\n",
            "[258]\tvalid's multi_logloss: 0.588981\n"
          ],
          "name": "stdout"
        },
        {
          "output_type": "execute_result",
          "data": {
            "text/plain": [
              "258"
            ]
          },
          "metadata": {
            "tags": []
          },
          "execution_count": 49
        }
      ]
    },
    {
      "cell_type": "code",
      "metadata": {
        "id": "4zo2Cy6_Hx8g",
        "colab_type": "code",
        "colab": {
          "base_uri": "https://localhost:8080/",
          "height": 354
        },
        "outputId": "b1db0183-16ad-4956-df09-e86f46f6d742"
      },
      "source": [
        "!pip install catboost"
      ],
      "execution_count": 52,
      "outputs": [
        {
          "output_type": "stream",
          "text": [
            "Collecting catboost\n",
            "\u001b[?25l  Downloading https://files.pythonhosted.org/packages/b2/aa/e61819d04ef2bbee778bf4b3a748db1f3ad23512377e43ecfdc3211437a0/catboost-0.23.2-cp36-none-manylinux1_x86_64.whl (64.8MB)\n",
            "\u001b[K     |████████████████████████████████| 64.8MB 59kB/s \n",
            "\u001b[?25hRequirement already satisfied: numpy>=1.16.0 in /usr/local/lib/python3.6/dist-packages (from catboost) (1.18.5)\n",
            "Requirement already satisfied: pandas>=0.24.0 in /usr/local/lib/python3.6/dist-packages (from catboost) (1.0.5)\n",
            "Requirement already satisfied: graphviz in /usr/local/lib/python3.6/dist-packages (from catboost) (0.10.1)\n",
            "Requirement already satisfied: scipy in /usr/local/lib/python3.6/dist-packages (from catboost) (1.4.1)\n",
            "Requirement already satisfied: plotly in /usr/local/lib/python3.6/dist-packages (from catboost) (4.4.1)\n",
            "Requirement already satisfied: matplotlib in /usr/local/lib/python3.6/dist-packages (from catboost) (3.2.2)\n",
            "Requirement already satisfied: six in /usr/local/lib/python3.6/dist-packages (from catboost) (1.12.0)\n",
            "Requirement already satisfied: pytz>=2017.2 in /usr/local/lib/python3.6/dist-packages (from pandas>=0.24.0->catboost) (2018.9)\n",
            "Requirement already satisfied: python-dateutil>=2.6.1 in /usr/local/lib/python3.6/dist-packages (from pandas>=0.24.0->catboost) (2.8.1)\n",
            "Requirement already satisfied: retrying>=1.3.3 in /usr/local/lib/python3.6/dist-packages (from plotly->catboost) (1.3.3)\n",
            "Requirement already satisfied: cycler>=0.10 in /usr/local/lib/python3.6/dist-packages (from matplotlib->catboost) (0.10.0)\n",
            "Requirement already satisfied: kiwisolver>=1.0.1 in /usr/local/lib/python3.6/dist-packages (from matplotlib->catboost) (1.2.0)\n",
            "Requirement already satisfied: pyparsing!=2.0.4,!=2.1.2,!=2.1.6,>=2.0.1 in /usr/local/lib/python3.6/dist-packages (from matplotlib->catboost) (2.4.7)\n",
            "Installing collected packages: catboost\n",
            "Successfully installed catboost-0.23.2\n"
          ],
          "name": "stdout"
        }
      ]
    },
    {
      "cell_type": "code",
      "metadata": {
        "id": "rZdC-RNwJD9f",
        "colab_type": "code",
        "colab": {
          "base_uri": "https://localhost:8080/",
          "height": 34
        },
        "outputId": "031abfb9-55ff-402c-f28f-411c59d35490"
      },
      "source": [
        "categorical_features_indices = np.where(X_train.dtypes =='object')[0]\n",
        "categorical_features_indices"
      ],
      "execution_count": 56,
      "outputs": [
        {
          "output_type": "execute_result",
          "data": {
            "text/plain": [
              "array([], dtype=int64)"
            ]
          },
          "metadata": {
            "tags": []
          },
          "execution_count": 56
        }
      ]
    },
    {
      "cell_type": "code",
      "metadata": {
        "id": "3tZUzcXyEbOO",
        "colab_type": "code",
        "colab": {}
      },
      "source": [
        "import catboost\n",
        "def make_classifier():\n",
        "    model = catboost.CatBoostClassifier(\n",
        "        iterations=5000,\n",
        "        random_state=18121995,\n",
        "        learning_rate=0.01,\n",
        "        loss_function='MultiClass',\n",
        "        early_stopping_rounds=100,\n",
        "    )\n",
        "    return model"
      ],
      "execution_count": 60,
      "outputs": []
    },
    {
      "cell_type": "code",
      "metadata": {
        "id": "aZZC2Y4IEbOS",
        "colab_type": "code",
        "colab": {
          "base_uri": "https://localhost:8080/",
          "height": 1000
        },
        "outputId": "d0cb15ae-7332-48eb-d5d7-018194bc2c1f"
      },
      "source": [
        "import os, sys, datetime\n",
        "from time import time\n",
        "import catboost\n",
        "from sklearn.model_selection import StratifiedKFold\n",
        "\n",
        "start_time = time()\n",
        "\n",
        "NFOLDS = 3\n",
        "folds = StratifiedKFold(n_splits=NFOLDS, shuffle=False, random_state=18121995)\n",
        "models = []\n",
        "scores = []\n",
        "for fold, (train_ids, test_ids) in enumerate(folds.split(X_train, y_train)):\n",
        "    print('● Fold :', fold+1)\n",
        "    model = make_classifier()\n",
        "    model.fit(X_train, y_train, \n",
        "              eval_set=(X_train, y_train),\n",
        "              use_best_model=False,\n",
        "              verbose=500,\n",
        "              cat_features=categorical_features_indices)    \n",
        "    models.append(model)\n",
        "    print('\\n')\n",
        "\n",
        "print('finished in {}'.format( \n",
        "    str(datetime.timedelta(seconds=time() - start_time))))"
      ],
      "execution_count": 61,
      "outputs": [
        {
          "output_type": "stream",
          "text": [
            "/usr/local/lib/python3.6/dist-packages/sklearn/model_selection/_split.py:296: FutureWarning: Setting a random_state has no effect since shuffle is False. This will raise an error in 0.24. You should leave random_state to its default (None), or set shuffle=True.\n",
            "  FutureWarning\n"
          ],
          "name": "stderr"
        },
        {
          "output_type": "stream",
          "text": [
            "● Fold : 1\n",
            "0:\tlearn: 1.9153329\ttest: 1.9153329\tbest: 1.9153329 (0)\ttotal: 21.9ms\tremaining: 1m 49s\n",
            "500:\tlearn: 0.6747651\ttest: 0.6747651\tbest: 0.6747651 (500)\ttotal: 10.1s\tremaining: 1m 30s\n",
            "1000:\tlearn: 0.6317704\ttest: 0.6317704\tbest: 0.6317704 (1000)\ttotal: 19.9s\tremaining: 1m 19s\n",
            "1500:\tlearn: 0.5982112\ttest: 0.5982112\tbest: 0.5982112 (1500)\ttotal: 29.8s\tremaining: 1m 9s\n",
            "2000:\tlearn: 0.5726281\ttest: 0.5726281\tbest: 0.5726281 (2000)\ttotal: 39.7s\tremaining: 59.6s\n",
            "2500:\tlearn: 0.5513617\ttest: 0.5513617\tbest: 0.5513617 (2500)\ttotal: 49.6s\tremaining: 49.6s\n",
            "3000:\tlearn: 0.5325306\ttest: 0.5325306\tbest: 0.5325306 (3000)\ttotal: 59.5s\tremaining: 39.6s\n",
            "3500:\tlearn: 0.5152405\ttest: 0.5152405\tbest: 0.5152405 (3500)\ttotal: 1m 9s\tremaining: 29.7s\n",
            "4000:\tlearn: 0.4996255\ttest: 0.4996255\tbest: 0.4996255 (4000)\ttotal: 1m 19s\tremaining: 19.9s\n",
            "4500:\tlearn: 0.4855628\ttest: 0.4855628\tbest: 0.4855628 (4500)\ttotal: 1m 29s\tremaining: 9.92s\n",
            "4999:\tlearn: 0.4724092\ttest: 0.4724092\tbest: 0.4724092 (4999)\ttotal: 1m 39s\tremaining: 0us\n",
            "\n",
            "bestTest = 0.4724092105\n",
            "bestIteration = 4999\n",
            "\n",
            "\n",
            "\n",
            "● Fold : 2\n",
            "0:\tlearn: 1.9153329\ttest: 1.9153329\tbest: 1.9153329 (0)\ttotal: 23.5ms\tremaining: 1m 57s\n",
            "500:\tlearn: 0.6747651\ttest: 0.6747651\tbest: 0.6747651 (500)\ttotal: 9.88s\tremaining: 1m 28s\n",
            "1000:\tlearn: 0.6317704\ttest: 0.6317704\tbest: 0.6317704 (1000)\ttotal: 19.7s\tremaining: 1m 18s\n",
            "1500:\tlearn: 0.5982112\ttest: 0.5982112\tbest: 0.5982112 (1500)\ttotal: 29.6s\tremaining: 1m 9s\n",
            "2000:\tlearn: 0.5726281\ttest: 0.5726281\tbest: 0.5726281 (2000)\ttotal: 39.6s\tremaining: 59.3s\n",
            "2500:\tlearn: 0.5513617\ttest: 0.5513617\tbest: 0.5513617 (2500)\ttotal: 49.5s\tremaining: 49.5s\n",
            "3000:\tlearn: 0.5325306\ttest: 0.5325306\tbest: 0.5325306 (3000)\ttotal: 59.5s\tremaining: 39.6s\n",
            "3500:\tlearn: 0.5152405\ttest: 0.5152405\tbest: 0.5152405 (3500)\ttotal: 1m 9s\tremaining: 29.7s\n",
            "4000:\tlearn: 0.4996255\ttest: 0.4996255\tbest: 0.4996255 (4000)\ttotal: 1m 19s\tremaining: 19.8s\n",
            "4500:\tlearn: 0.4855628\ttest: 0.4855628\tbest: 0.4855628 (4500)\ttotal: 1m 29s\tremaining: 9.89s\n",
            "4999:\tlearn: 0.4724092\ttest: 0.4724092\tbest: 0.4724092 (4999)\ttotal: 1m 39s\tremaining: 0us\n",
            "\n",
            "bestTest = 0.4724092105\n",
            "bestIteration = 4999\n",
            "\n",
            "\n",
            "\n",
            "● Fold : 3\n",
            "0:\tlearn: 1.9153329\ttest: 1.9153329\tbest: 1.9153329 (0)\ttotal: 19.9ms\tremaining: 1m 39s\n",
            "500:\tlearn: 0.6747651\ttest: 0.6747651\tbest: 0.6747651 (500)\ttotal: 9.85s\tremaining: 1m 28s\n",
            "1000:\tlearn: 0.6317704\ttest: 0.6317704\tbest: 0.6317704 (1000)\ttotal: 19.6s\tremaining: 1m 18s\n",
            "1500:\tlearn: 0.5982112\ttest: 0.5982112\tbest: 0.5982112 (1500)\ttotal: 29.5s\tremaining: 1m 8s\n",
            "2000:\tlearn: 0.5726281\ttest: 0.5726281\tbest: 0.5726281 (2000)\ttotal: 39.4s\tremaining: 59.1s\n",
            "2500:\tlearn: 0.5513617\ttest: 0.5513617\tbest: 0.5513617 (2500)\ttotal: 49.3s\tremaining: 49.3s\n",
            "3000:\tlearn: 0.5325306\ttest: 0.5325306\tbest: 0.5325306 (3000)\ttotal: 59.2s\tremaining: 39.5s\n",
            "3500:\tlearn: 0.5152405\ttest: 0.5152405\tbest: 0.5152405 (3500)\ttotal: 1m 9s\tremaining: 29.6s\n",
            "4000:\tlearn: 0.4996255\ttest: 0.4996255\tbest: 0.4996255 (4000)\ttotal: 1m 19s\tremaining: 19.8s\n",
            "4500:\tlearn: 0.4855628\ttest: 0.4855628\tbest: 0.4855628 (4500)\ttotal: 1m 29s\tremaining: 9.89s\n",
            "4999:\tlearn: 0.4724092\ttest: 0.4724092\tbest: 0.4724092 (4999)\ttotal: 1m 39s\tremaining: 0us\n",
            "\n",
            "bestTest = 0.4724092105\n",
            "bestIteration = 4999\n",
            "\n",
            "\n",
            "\n",
            "finished in 0:05:00.358844\n"
          ],
          "name": "stdout"
        }
      ]
    },
    {
      "cell_type": "code",
      "metadata": {
        "id": "bBnUbEEiMLJ1",
        "colab_type": "code",
        "colab": {
          "base_uri": "https://localhost:8080/",
          "height": 34
        },
        "outputId": "f2c08661-087a-4b92-c4f4-2119e5d026b6"
      },
      "source": [
        "from xgboost import XGBClassifier\n",
        "xgb = XGBClassifier(base_score=0.5, booster='gbtree', colsample_bylevel=1,\n",
        "              colsample_bynode=1, colsample_bytree=1, gamma=0,\n",
        "              learning_rate=0.1, max_delta_step=0, max_depth=3,\n",
        "              min_child_weight=1, missing=None, n_estimators=100, n_jobs=1,\n",
        "              nthread=None, objective='multi:softprob', random_state=0,\n",
        "              reg_alpha=0, reg_lambda=1, scale_pos_weight=1, seed=None,\n",
        "              silent=None, subsample=1, verbosity=1)\n",
        "\n",
        "#Training the classifier\n",
        "xgb.fit(X_train,y_train)\n",
        "\n",
        "#Evaluating the score on validation set\n",
        "xgb.score(X_test,y_test)"
      ],
      "execution_count": 62,
      "outputs": [
        {
          "output_type": "execute_result",
          "data": {
            "text/plain": [
              "0.7321135991261606"
            ]
          },
          "metadata": {
            "tags": []
          },
          "execution_count": 62
        }
      ]
    },
    {
      "cell_type": "code",
      "metadata": {
        "id": "QcDDcEmBOLiV",
        "colab_type": "code",
        "colab": {
          "base_uri": "https://localhost:8080/",
          "height": 193
        },
        "outputId": "b386fa5e-d278-4407-b602-15c46f961b5e"
      },
      "source": [
        "clf_lgb_fulldata = lgb.LGBMClassifier(n_estimators=int(clf_lgb.best_iteration_*1.2), **lgb_params)\n",
        "clf_lgb_fulldata.fit(data_train_final, data_train_target)"
      ],
      "execution_count": 63,
      "outputs": [
        {
          "output_type": "execute_result",
          "data": {
            "text/plain": [
              "LGBMClassifier(bagging_fraction=0.8, bagging_freq=1, boosting_type='gbdt',\n",
              "               class_weight=None, colsample_bytree=1.0, feature_fraction=0.8,\n",
              "               importance_type='split', lambda_l1=0.01, lambda_l2=0.01,\n",
              "               learning_rate=0.1, max_bin=255, max_depth=-1,\n",
              "               metric='multi_logloss', min_child_samples=20,\n",
              "               min_child_weight=0.001, min_data_in_bin=1, min_data_in_leaf=1,\n",
              "               min_split_gain=0.0, n_estimators=309, n_jobs=-1, num_class=7,\n",
              "               num_leaves=31, objective='multiclass', random_state=None,\n",
              "               reg_alpha=0.0, reg_lambda=0.0, silent=True, subsample=1.0,\n",
              "               subsample_for_bin=200000, subsample_freq=0, ...)"
            ]
          },
          "metadata": {
            "tags": []
          },
          "execution_count": 63
        }
      ]
    },
    {
      "cell_type": "code",
      "metadata": {
        "id": "_GgFWj-CPOIs",
        "colab_type": "code",
        "colab": {}
      },
      "source": [
        "predictions = np.argmax(clf_lgb_fulldata.predict_proba(df_test), axis=1)"
      ],
      "execution_count": 68,
      "outputs": []
    },
    {
      "cell_type": "code",
      "metadata": {
        "id": "-ISt1khTOKYt",
        "colab_type": "code",
        "colab": {
          "base_uri": "https://localhost:8080/",
          "height": 230
        },
        "outputId": "c824dcac-4d26-4c0c-b193-04c23d7059d2"
      },
      "source": [
        "\n",
        "target = \"Delivery_Time\"\n",
        "train_target = data_train[target]\n",
        "train_target = train_target.apply(lambda x: x.split()[0]).astype(int)\n",
        "\n",
        "\n",
        "class_map = {}\n",
        "class_map_rev = {}\n",
        "for a,b in enumerate(sorted(train_target.unique())):\n",
        "    class_map[b] = a\n",
        "    class_map_rev[a] = b\n",
        "print(\"class mapping {}\".format(class_map))\n",
        "print(\"class mapping reverse {}\".format(class_map_rev))\n",
        "\n",
        "train_target = train_target.map(class_map)\n",
        "\n",
        "submission = pd.DataFrame({target: pd.Series(predictions).map(class_map_rev).apply(lambda x: str(x)+\" minutes\")})\n",
        "\n",
        "submission.head()"
      ],
      "execution_count": 73,
      "outputs": [
        {
          "output_type": "stream",
          "text": [
            "class mapping {10: 0, 20: 1, 30: 2, 45: 3, 65: 4, 80: 5, 120: 6}\n",
            "class mapping reverse {0: 10, 1: 20, 2: 30, 3: 45, 4: 65, 5: 80, 6: 120}\n"
          ],
          "name": "stdout"
        },
        {
          "output_type": "execute_result",
          "data": {
            "text/html": [
              "<div>\n",
              "<style scoped>\n",
              "    .dataframe tbody tr th:only-of-type {\n",
              "        vertical-align: middle;\n",
              "    }\n",
              "\n",
              "    .dataframe tbody tr th {\n",
              "        vertical-align: top;\n",
              "    }\n",
              "\n",
              "    .dataframe thead th {\n",
              "        text-align: right;\n",
              "    }\n",
              "</style>\n",
              "<table border=\"1\" class=\"dataframe\">\n",
              "  <thead>\n",
              "    <tr style=\"text-align: right;\">\n",
              "      <th></th>\n",
              "      <th>Delivery_Time</th>\n",
              "    </tr>\n",
              "  </thead>\n",
              "  <tbody>\n",
              "    <tr>\n",
              "      <th>0</th>\n",
              "      <td>80 minutes</td>\n",
              "    </tr>\n",
              "    <tr>\n",
              "      <th>1</th>\n",
              "      <td>80 minutes</td>\n",
              "    </tr>\n",
              "    <tr>\n",
              "      <th>2</th>\n",
              "      <td>80 minutes</td>\n",
              "    </tr>\n",
              "    <tr>\n",
              "      <th>3</th>\n",
              "      <td>80 minutes</td>\n",
              "    </tr>\n",
              "    <tr>\n",
              "      <th>4</th>\n",
              "      <td>80 minutes</td>\n",
              "    </tr>\n",
              "  </tbody>\n",
              "</table>\n",
              "</div>"
            ],
            "text/plain": [
              "  Delivery_Time\n",
              "0    80 minutes\n",
              "1    80 minutes\n",
              "2    80 minutes\n",
              "3    80 minutes\n",
              "4    80 minutes"
            ]
          },
          "metadata": {
            "tags": []
          },
          "execution_count": 73
        }
      ]
    },
    {
      "cell_type": "code",
      "metadata": {
        "id": "aNVoAVooEbOY",
        "colab_type": "code",
        "colab": {}
      },
      "source": [
        ""
      ],
      "execution_count": null,
      "outputs": []
    },
    {
      "cell_type": "code",
      "metadata": {
        "id": "FO4aHFK_EbOa",
        "colab_type": "code",
        "colab": {}
      },
      "source": [
        ""
      ],
      "execution_count": null,
      "outputs": []
    },
    {
      "cell_type": "code",
      "metadata": {
        "id": "5ByiQBdzEbOh",
        "colab_type": "code",
        "colab": {}
      },
      "source": [
        ""
      ],
      "execution_count": null,
      "outputs": []
    },
    {
      "cell_type": "code",
      "metadata": {
        "id": "7q_ZcWCbEbOr",
        "colab_type": "code",
        "colab": {}
      },
      "source": [
        ""
      ],
      "execution_count": null,
      "outputs": []
    },
    {
      "cell_type": "code",
      "metadata": {
        "id": "chc4DBH-EbOv",
        "colab_type": "code",
        "colab": {}
      },
      "source": [
        ""
      ],
      "execution_count": null,
      "outputs": []
    },
    {
      "cell_type": "code",
      "metadata": {
        "id": "UuJ9lua_EbO1",
        "colab_type": "code",
        "colab": {}
      },
      "source": [
        ""
      ],
      "execution_count": null,
      "outputs": []
    },
    {
      "cell_type": "code",
      "metadata": {
        "id": "IcXUafYAEbO6",
        "colab_type": "code",
        "colab": {}
      },
      "source": [
        ""
      ],
      "execution_count": null,
      "outputs": []
    },
    {
      "cell_type": "code",
      "metadata": {
        "id": "Y_JSDSA8EbPB",
        "colab_type": "code",
        "colab": {}
      },
      "source": [
        ""
      ],
      "execution_count": null,
      "outputs": []
    },
    {
      "cell_type": "code",
      "metadata": {
        "id": "C4AlhTINEbPE",
        "colab_type": "code",
        "colab": {}
      },
      "source": [
        ""
      ],
      "execution_count": null,
      "outputs": []
    },
    {
      "cell_type": "code",
      "metadata": {
        "id": "iL8yS0bxEbPI",
        "colab_type": "code",
        "colab": {}
      },
      "source": [
        ""
      ],
      "execution_count": null,
      "outputs": []
    },
    {
      "cell_type": "code",
      "metadata": {
        "id": "3ZPQurzbEbPO",
        "colab_type": "code",
        "colab": {}
      },
      "source": [
        ""
      ],
      "execution_count": null,
      "outputs": []
    },
    {
      "cell_type": "code",
      "metadata": {
        "id": "aVKk4b8zEbPR",
        "colab_type": "code",
        "colab": {}
      },
      "source": [
        ""
      ],
      "execution_count": null,
      "outputs": []
    },
    {
      "cell_type": "code",
      "metadata": {
        "id": "vLWSh5r4EbPU",
        "colab_type": "code",
        "colab": {}
      },
      "source": [
        ""
      ],
      "execution_count": null,
      "outputs": []
    },
    {
      "cell_type": "code",
      "metadata": {
        "id": "TGHBMdsjEbPY",
        "colab_type": "code",
        "colab": {}
      },
      "source": [
        ""
      ],
      "execution_count": null,
      "outputs": []
    },
    {
      "cell_type": "code",
      "metadata": {
        "id": "UVDxokIGEbPa",
        "colab_type": "code",
        "colab": {}
      },
      "source": [
        ""
      ],
      "execution_count": null,
      "outputs": []
    },
    {
      "cell_type": "code",
      "metadata": {
        "id": "0KgX1LMVEbPd",
        "colab_type": "code",
        "colab": {}
      },
      "source": [
        ""
      ],
      "execution_count": null,
      "outputs": []
    },
    {
      "cell_type": "code",
      "metadata": {
        "id": "F081eqQdEbPf",
        "colab_type": "code",
        "colab": {}
      },
      "source": [
        ""
      ],
      "execution_count": null,
      "outputs": []
    },
    {
      "cell_type": "code",
      "metadata": {
        "id": "4gJzH-3sEbPi",
        "colab_type": "code",
        "colab": {}
      },
      "source": [
        ""
      ],
      "execution_count": null,
      "outputs": []
    },
    {
      "cell_type": "code",
      "metadata": {
        "id": "lNZO3f5yEbPm",
        "colab_type": "code",
        "colab": {}
      },
      "source": [
        ""
      ],
      "execution_count": null,
      "outputs": []
    },
    {
      "cell_type": "code",
      "metadata": {
        "id": "fh1SU4wxEbPr",
        "colab_type": "code",
        "colab": {}
      },
      "source": [
        ""
      ],
      "execution_count": null,
      "outputs": []
    },
    {
      "cell_type": "code",
      "metadata": {
        "id": "L-d2oDEcEbPv",
        "colab_type": "code",
        "colab": {}
      },
      "source": [
        ""
      ],
      "execution_count": null,
      "outputs": []
    },
    {
      "cell_type": "code",
      "metadata": {
        "id": "XKnLySknEbPy",
        "colab_type": "code",
        "colab": {}
      },
      "source": [
        ""
      ],
      "execution_count": null,
      "outputs": []
    },
    {
      "cell_type": "code",
      "metadata": {
        "id": "oaTKV5ncEbP1",
        "colab_type": "code",
        "colab": {}
      },
      "source": [
        ""
      ],
      "execution_count": null,
      "outputs": []
    },
    {
      "cell_type": "code",
      "metadata": {
        "id": "qwY6rLsiEbP4",
        "colab_type": "code",
        "colab": {}
      },
      "source": [
        ""
      ],
      "execution_count": null,
      "outputs": []
    },
    {
      "cell_type": "code",
      "metadata": {
        "id": "lITuwe_QEbP7",
        "colab_type": "code",
        "colab": {}
      },
      "source": [
        ""
      ],
      "execution_count": null,
      "outputs": []
    },
    {
      "cell_type": "code",
      "metadata": {
        "id": "9H_PPhe1EbP-",
        "colab_type": "code",
        "colab": {}
      },
      "source": [
        ""
      ],
      "execution_count": null,
      "outputs": []
    },
    {
      "cell_type": "code",
      "metadata": {
        "id": "BEFTLsqnEbQA",
        "colab_type": "code",
        "colab": {}
      },
      "source": [
        ""
      ],
      "execution_count": null,
      "outputs": []
    },
    {
      "cell_type": "code",
      "metadata": {
        "id": "QI5eepmoEbQD",
        "colab_type": "code",
        "colab": {}
      },
      "source": [
        ""
      ],
      "execution_count": null,
      "outputs": []
    },
    {
      "cell_type": "code",
      "metadata": {
        "id": "m1K3V0N9EbQH",
        "colab_type": "code",
        "colab": {}
      },
      "source": [
        ""
      ],
      "execution_count": null,
      "outputs": []
    },
    {
      "cell_type": "code",
      "metadata": {
        "id": "vQncLDpQEbQI",
        "colab_type": "code",
        "colab": {}
      },
      "source": [
        ""
      ],
      "execution_count": null,
      "outputs": []
    },
    {
      "cell_type": "code",
      "metadata": {
        "id": "49X4D7FCEbQK",
        "colab_type": "code",
        "colab": {}
      },
      "source": [
        ""
      ],
      "execution_count": null,
      "outputs": []
    },
    {
      "cell_type": "code",
      "metadata": {
        "id": "d3UMjXIQEbQM",
        "colab_type": "code",
        "colab": {}
      },
      "source": [
        ""
      ],
      "execution_count": null,
      "outputs": []
    },
    {
      "cell_type": "code",
      "metadata": {
        "id": "F1w_Yo40EbQO",
        "colab_type": "code",
        "colab": {}
      },
      "source": [
        ""
      ],
      "execution_count": null,
      "outputs": []
    },
    {
      "cell_type": "code",
      "metadata": {
        "id": "mOiPbw0DEbQS",
        "colab_type": "code",
        "colab": {}
      },
      "source": [
        ""
      ],
      "execution_count": null,
      "outputs": []
    },
    {
      "cell_type": "code",
      "metadata": {
        "id": "oADR0TKWEbQT",
        "colab_type": "code",
        "colab": {}
      },
      "source": [
        ""
      ],
      "execution_count": null,
      "outputs": []
    },
    {
      "cell_type": "code",
      "metadata": {
        "id": "74nguv-xEbQW",
        "colab_type": "code",
        "colab": {}
      },
      "source": [
        ""
      ],
      "execution_count": null,
      "outputs": []
    },
    {
      "cell_type": "code",
      "metadata": {
        "id": "kI8R9hcoEbQZ",
        "colab_type": "code",
        "colab": {}
      },
      "source": [
        ""
      ],
      "execution_count": null,
      "outputs": []
    },
    {
      "cell_type": "code",
      "metadata": {
        "id": "HbR-DSNUEbQc",
        "colab_type": "code",
        "colab": {}
      },
      "source": [
        ""
      ],
      "execution_count": null,
      "outputs": []
    },
    {
      "cell_type": "code",
      "metadata": {
        "id": "QIHgCfYIEbQf",
        "colab_type": "code",
        "colab": {}
      },
      "source": [
        ""
      ],
      "execution_count": null,
      "outputs": []
    },
    {
      "cell_type": "code",
      "metadata": {
        "id": "LnZKVmsJEbQh",
        "colab_type": "code",
        "colab": {}
      },
      "source": [
        ""
      ],
      "execution_count": null,
      "outputs": []
    },
    {
      "cell_type": "code",
      "metadata": {
        "id": "mMWqZLePEbQk",
        "colab_type": "code",
        "colab": {}
      },
      "source": [
        ""
      ],
      "execution_count": null,
      "outputs": []
    },
    {
      "cell_type": "code",
      "metadata": {
        "id": "daL6Ro9oEbQm",
        "colab_type": "code",
        "colab": {}
      },
      "source": [
        ""
      ],
      "execution_count": null,
      "outputs": []
    },
    {
      "cell_type": "code",
      "metadata": {
        "id": "eJGLSzYHEbQo",
        "colab_type": "code",
        "colab": {}
      },
      "source": [
        ""
      ],
      "execution_count": null,
      "outputs": []
    },
    {
      "cell_type": "code",
      "metadata": {
        "id": "-o4cGtmTEbQq",
        "colab_type": "code",
        "colab": {}
      },
      "source": [
        ""
      ],
      "execution_count": null,
      "outputs": []
    },
    {
      "cell_type": "code",
      "metadata": {
        "id": "PDxO0pArEbQt",
        "colab_type": "code",
        "colab": {}
      },
      "source": [
        ""
      ],
      "execution_count": null,
      "outputs": []
    },
    {
      "cell_type": "code",
      "metadata": {
        "id": "xG8xn0yuEbQv",
        "colab_type": "code",
        "colab": {}
      },
      "source": [
        ""
      ],
      "execution_count": null,
      "outputs": []
    },
    {
      "cell_type": "code",
      "metadata": {
        "id": "4oVUUH2REbQx",
        "colab_type": "code",
        "colab": {}
      },
      "source": [
        ""
      ],
      "execution_count": null,
      "outputs": []
    },
    {
      "cell_type": "code",
      "metadata": {
        "id": "8yIoLyJ0EbQ1",
        "colab_type": "code",
        "colab": {}
      },
      "source": [
        ""
      ],
      "execution_count": null,
      "outputs": []
    },
    {
      "cell_type": "code",
      "metadata": {
        "id": "Zap-i1zlEbQ6",
        "colab_type": "code",
        "colab": {}
      },
      "source": [
        ""
      ],
      "execution_count": null,
      "outputs": []
    },
    {
      "cell_type": "code",
      "metadata": {
        "id": "wDx4f9VKEbQ9",
        "colab_type": "code",
        "colab": {}
      },
      "source": [
        ""
      ],
      "execution_count": null,
      "outputs": []
    },
    {
      "cell_type": "code",
      "metadata": {
        "id": "wZHCZD2OEbRA",
        "colab_type": "code",
        "colab": {}
      },
      "source": [
        ""
      ],
      "execution_count": null,
      "outputs": []
    },
    {
      "cell_type": "code",
      "metadata": {
        "id": "Xfp2xcsJEbRD",
        "colab_type": "code",
        "colab": {}
      },
      "source": [
        ""
      ],
      "execution_count": null,
      "outputs": []
    },
    {
      "cell_type": "code",
      "metadata": {
        "id": "tGqivlvKEbRE",
        "colab_type": "code",
        "colab": {}
      },
      "source": [
        ""
      ],
      "execution_count": null,
      "outputs": []
    },
    {
      "cell_type": "code",
      "metadata": {
        "id": "ggq8PFrvEbRI",
        "colab_type": "code",
        "colab": {}
      },
      "source": [
        ""
      ],
      "execution_count": null,
      "outputs": []
    },
    {
      "cell_type": "code",
      "metadata": {
        "id": "0Kj5DMUHEbRK",
        "colab_type": "code",
        "colab": {}
      },
      "source": [
        ""
      ],
      "execution_count": null,
      "outputs": []
    },
    {
      "cell_type": "code",
      "metadata": {
        "id": "ww7kal1aEbRM",
        "colab_type": "code",
        "colab": {}
      },
      "source": [
        ""
      ],
      "execution_count": null,
      "outputs": []
    },
    {
      "cell_type": "code",
      "metadata": {
        "id": "F7JpQloFEbRP",
        "colab_type": "code",
        "colab": {}
      },
      "source": [
        ""
      ],
      "execution_count": null,
      "outputs": []
    },
    {
      "cell_type": "code",
      "metadata": {
        "id": "cAXnt2OgEbRR",
        "colab_type": "code",
        "colab": {}
      },
      "source": [
        ""
      ],
      "execution_count": null,
      "outputs": []
    },
    {
      "cell_type": "code",
      "metadata": {
        "id": "cYuxwBC7EbRS",
        "colab_type": "code",
        "colab": {}
      },
      "source": [
        ""
      ],
      "execution_count": null,
      "outputs": []
    },
    {
      "cell_type": "code",
      "metadata": {
        "id": "6evyQltbEbRU",
        "colab_type": "code",
        "colab": {}
      },
      "source": [
        ""
      ],
      "execution_count": null,
      "outputs": []
    },
    {
      "cell_type": "code",
      "metadata": {
        "id": "GGUU9734MJYT",
        "colab_type": "code",
        "colab": {}
      },
      "source": [
        ""
      ],
      "execution_count": null,
      "outputs": []
    }
  ]
}